{
 "cells": [
  {
   "cell_type": "code",
   "execution_count": 1,
   "metadata": {},
   "outputs": [],
   "source": [
    "import pandas as pd\n",
    "import numpy as np\n",
    "import matplotlib.pyplot as plt\n",
    "import seaborn as sns\n",
    "%matplotlib inline"
   ]
  },
  {
   "cell_type": "code",
   "execution_count": 2,
   "metadata": {},
   "outputs": [],
   "source": [
    "df_najwa = pd.read_csv('najwa.tab', delimiter='\\t')"
   ]
  },
  {
   "cell_type": "code",
   "execution_count": 3,
   "metadata": {},
   "outputs": [
    {
     "data": {
      "text/plain": [
       "position                int64\n",
       "channelId              object\n",
       "channelTitle           object\n",
       "videoId                object\n",
       "publishedAt            object\n",
       "publishedAtSQL         object\n",
       "videoTitle             object\n",
       "videoDescription       object\n",
       "videoCategoryId         int64\n",
       "videoCategoryLabel     object\n",
       "duration               object\n",
       "durationSec             int64\n",
       "dimension              object\n",
       "definition             object\n",
       "caption                  bool\n",
       "thumbnail_maxres       object\n",
       "licensedContent       float64\n",
       "viewCount               int64\n",
       "likeCount               int64\n",
       "dislikeCount            int64\n",
       "favoriteCount           int64\n",
       "commentCount            int64\n",
       "dtype: object"
      ]
     },
     "execution_count": 3,
     "metadata": {},
     "output_type": "execute_result"
    }
   ],
   "source": [
    "df_najwa.dtypes"
   ]
  },
  {
   "cell_type": "code",
   "execution_count": 4,
   "metadata": {},
   "outputs": [],
   "source": [
    "df_najwa.drop(['position','channelId','videoId','publishedAt','publishedAtSQL','videoDescription','videoCategoryId',\n",
    "              'videoCategoryLabel','duration','durationSec','dimension','definition','caption','thumbnail_maxres',\n",
    "               'licensedContent','likeCount','dislikeCount','favoriteCount','commentCount'], axis=1, inplace=True)"
   ]
  },
  {
   "cell_type": "code",
   "execution_count": 5,
   "metadata": {},
   "outputs": [
    {
     "data": {
      "text/html": [
       "<div>\n",
       "<style scoped>\n",
       "    .dataframe tbody tr th:only-of-type {\n",
       "        vertical-align: middle;\n",
       "    }\n",
       "\n",
       "    .dataframe tbody tr th {\n",
       "        vertical-align: top;\n",
       "    }\n",
       "\n",
       "    .dataframe thead th {\n",
       "        text-align: right;\n",
       "    }\n",
       "</style>\n",
       "<table border=\"1\" class=\"dataframe\">\n",
       "  <thead>\n",
       "    <tr style=\"text-align: right;\">\n",
       "      <th></th>\n",
       "      <th>channelTitle</th>\n",
       "      <th>videoTitle</th>\n",
       "      <th>viewCount</th>\n",
       "    </tr>\n",
       "  </thead>\n",
       "  <tbody>\n",
       "    <tr>\n",
       "      <th>0</th>\n",
       "      <td>Najwa Shihab</td>\n",
       "      <td>Transaksi Rekonsiliasi: Oposisi Dapat Kursi, S...</td>\n",
       "      <td>117990</td>\n",
       "    </tr>\n",
       "    <tr>\n",
       "      <th>1</th>\n",
       "      <td>Najwa Shihab</td>\n",
       "      <td>Transaksi Rekonsiliasi: Parpol Lompat Pagar (P...</td>\n",
       "      <td>195197</td>\n",
       "    </tr>\n",
       "    <tr>\n",
       "      <th>2</th>\n",
       "      <td>Najwa Shihab</td>\n",
       "      <td>Transaksi Rekonsiliasi: Dulu Begini Sekarang B...</td>\n",
       "      <td>371174</td>\n",
       "    </tr>\n",
       "    <tr>\n",
       "      <th>3</th>\n",
       "      <td>Najwa Shihab</td>\n",
       "      <td>Transaksi Rekonsiliasi: Rekonsiliasi, Bagi-Bag...</td>\n",
       "      <td>217537</td>\n",
       "    </tr>\n",
       "    <tr>\n",
       "      <th>4</th>\n",
       "      <td>Najwa Shihab</td>\n",
       "      <td>Transaksi Rekonsiliasi - Pengamat: Rekonsilias...</td>\n",
       "      <td>280581</td>\n",
       "    </tr>\n",
       "  </tbody>\n",
       "</table>\n",
       "</div>"
      ],
      "text/plain": [
       "   channelTitle                                         videoTitle  viewCount\n",
       "0  Najwa Shihab  Transaksi Rekonsiliasi: Oposisi Dapat Kursi, S...     117990\n",
       "1  Najwa Shihab  Transaksi Rekonsiliasi: Parpol Lompat Pagar (P...     195197\n",
       "2  Najwa Shihab  Transaksi Rekonsiliasi: Dulu Begini Sekarang B...     371174\n",
       "3  Najwa Shihab  Transaksi Rekonsiliasi: Rekonsiliasi, Bagi-Bag...     217537\n",
       "4  Najwa Shihab  Transaksi Rekonsiliasi - Pengamat: Rekonsilias...     280581"
      ]
     },
     "execution_count": 5,
     "metadata": {},
     "output_type": "execute_result"
    }
   ],
   "source": [
    "df_najwa.head()"
   ]
  },
  {
   "cell_type": "code",
   "execution_count": 6,
   "metadata": {},
   "outputs": [],
   "source": [
    "df_najwa['TitleLength'] = df_najwa['videoTitle'].str.len()"
   ]
  },
  {
   "cell_type": "code",
   "execution_count": 7,
   "metadata": {},
   "outputs": [],
   "source": [
    "title_length = 'TitleLength'"
   ]
  },
  {
   "cell_type": "code",
   "execution_count": 8,
   "metadata": {},
   "outputs": [],
   "source": [
    "columns = [{'column_name': 'viewCount', 'column_text':'Views'},\n",
    "           {'column_name': title_length, 'column_text':'Title length'}]"
   ]
  },
  {
   "cell_type": "code",
   "execution_count": 9,
   "metadata": {},
   "outputs": [],
   "source": [
    "sns.set_style('whitegrid')\n",
    "sns.set_palette('coolwarm')"
   ]
  },
  {
   "cell_type": "code",
   "execution_count": 10,
   "metadata": {},
   "outputs": [
    {
     "name": "stdout",
     "output_type": "stream",
     "text": [
      "Total viewCount: 416561880 times\n"
     ]
    },
    {
     "data": {
      "image/png": "[encoded data removed]",
      "text/plain": [
       "<Figure size 1440x360 with 2 Axes>"
      ]
     },
     "metadata": {},
     "output_type": "display_data"
    }
   ],
   "source": [
    "plt.figure(figsize=(20,5))\n",
    "for el in columns:\n",
    "    class_name = el['column_name']\n",
    "    column = df_najwa[class_name]\n",
    "    plt.subplot(1,4, columns.index(el)+1)\n",
    "    plt.tight_layout()\n",
    "    column.plot.hist(orientation='vertical', cumulative=False, title=el['column_text'])\n",
    "    if class_name != title_length:\n",
    "        print('Total {}: {} times'.format(class_name, column.sum()))"
   ]
  },
  {
   "cell_type": "code",
   "execution_count": 11,
   "metadata": {},
   "outputs": [
    {
     "data": {
      "image/png": "[encoded data removed]",
      "text/plain": [
       "<Figure size 1080x432 with 2 Axes>"
      ]
     },
     "metadata": {},
     "output_type": "display_data"
    }
   ],
   "source": [
    "plt.figure(figsize=(15,6))\n",
    "for el in columns:\n",
    "    class_name = el['column_name']\n",
    "    column = df_najwa[class_name]\n",
    "    plt.subplot(1,4, columns.index(el) + 1)\n",
    "    plt.tight_layout()\n",
    "    plt.title(class_name)\n",
    "    sns.boxplot(data=column)"
   ]
  },
  {
   "cell_type": "code",
   "execution_count": 12,
   "metadata": {},
   "outputs": [
    {
     "data": {
      "image/png": "[encoded data removed]",
      "text/plain": [
       "<Figure size 720x720 with 4 Axes>"
      ]
     },
     "metadata": {},
     "output_type": "display_data"
    }
   ],
   "source": [
    "temp = pd.plotting.scatter_matrix(df_najwa[['viewCount','TitleLength']], diagonal='kde', figsize=(10,10))"
   ]
  },
  {
   "cell_type": "code",
   "execution_count": 13,
   "metadata": {},
   "outputs": [],
   "source": [
    "PERCENTAGE = 25\n",
    "def remove_outliers(df_najwa,column):\n",
    "    Q1 = df_najwa[column].quantile(0.25)\n",
    "    Q3 = df_najwa[column].quantile(0.75)\n",
    "    IQR = Q3 - Q1\n",
    "    non_outliers = (df_najwa[column] >= Q1 - 1.5*IQR) & (df_najwa[column] <= Q3 + 1.5*IQR)\n",
    "    return df_najwa.loc[non_outliers]\n",
    "\n",
    "def plot_top_length_performers(col_name, is_grouped):\n",
    "    plt.figure(figsize=(20,5))\n",
    "    for el in columns:\n",
    "        class_name = el['column_name']\n",
    "        column = df_najwa[class_name]\n",
    "        if class_name != title_length:\n",
    "            plt.subplot(1,3, columns.index(el) + 1)\n",
    "            plt.tight_layout()\n",
    "            \n",
    "            title_top = remove_outliers(df_najwa, class_name)\n",
    "            title_top = title_top.sort_values(by=[class_name], ascending=False).head(int(len(df_najwa)*(PERCENTAGE/100.00)))\n",
    "            \n",
    "            if(is_grouped):\n",
    "                temp = title_top.groupby(pd.cut(title_top[col_name], bins=np.arange(0,140+10, step=10))).count()[class_name]\n",
    "            else:\n",
    "                temp = title_top.groupby(title_top[col_name]).count()[class_name]\n",
    "            temp.plot.bar()\n",
    "            \n",
    "            plt.title('{} frequency'.format(el['column_name']));"
   ]
  },
  {
   "cell_type": "code",
   "execution_count": 14,
   "metadata": {},
   "outputs": [
    {
     "data": {
      "image/png": "[encoded data removed]",
      "text/plain": [
       "<Figure size 1440x360 with 1 Axes>"
      ]
     },
     "metadata": {},
     "output_type": "display_data"
    }
   ],
   "source": [
    "plot_top_length_performers(title_length, True)"
   ]
  },
  {
   "cell_type": "code",
   "execution_count": 15,
   "metadata": {},
   "outputs": [
    {
     "data": {
      "image/png": "[encoded data removed]",
      "text/plain": [
       "<Figure size 1440x360 with 1 Axes>"
      ]
     },
     "metadata": {},
     "output_type": "display_data"
    }
   ],
   "source": [
    "word_number = 'Word Number'\n",
    "df_najwa[word_number] = df_najwa['videoTitle'].str.split().apply(len)\n",
    "plot_top_length_performers(word_number, False)"
   ]
  },
  {
   "cell_type": "code",
   "execution_count": 16,
   "metadata": {},
   "outputs": [],
   "source": [
    "def plot_top_performers(lst_col):\n",
    "    for el in columns:\n",
    "        column = df_najwa[el['column_name']]\n",
    "        class_name = el['column_name']\n",
    "        \n",
    "        if class_name != title_length:\n",
    "            plt.figure(figsize=(10,5))\n",
    "            title_top = remove_outliers(df_najwa, class_name)\n",
    "            title_top = title_top.sort_values(by=[class_name], ascending=False).head(int(len(title_top)*(PERCENTAGE/100.00)))\n",
    "            x = pd.DataFrame({\n",
    "                col:np.repeat(title_top[col].values, title_top[lst_col].str.len()) for col in title_top.columns.difference([lst_col])\n",
    "            }).assign(**{lst_col:np.concatenate(title_top[lst_col].values)})[title_top.columns.tolist()]\n",
    "            \n",
    "            temp = x.groupby(lst_col).count()[class_name].sort_values(ascending=False).head(20).sort_values(ascending=True)\n",
    "            temp.plot.barh()\n",
    "            plt.title('Most used {} on top {}% {}'.format(lst_col, PERCENTAGE, el['column_text']));"
   ]
  },
  {
   "cell_type": "code",
   "execution_count": 17,
   "metadata": {},
   "outputs": [],
   "source": [
    "df_najwa['videoTitle'] = df_najwa['videoTitle'].str.replace('\\d', '')"
   ]
  },
  {
   "cell_type": "code",
   "execution_count": 18,
   "metadata": {},
   "outputs": [],
   "source": [
    "df_najwa['videoTitle'] = df_najwa['videoTitle'].str.replace('Part','')"
   ]
  },
  {
   "cell_type": "code",
   "execution_count": 19,
   "metadata": {},
   "outputs": [
    {
     "data": {
      "text/plain": [
       "0    [transaksi, rekonsiliasi, oposisi, dapat, kurs...\n",
       "1    [transaksi, rekonsiliasi, parpol, lompat, paga...\n",
       "2    [transaksi, rekonsiliasi, dulu, begini, sekara...\n",
       "3    [transaksi, rekonsiliasi, rekonsiliasi, bagi, ...\n",
       "4    [transaksi, rekonsiliasi, pengamat, rekonsilia...\n",
       "Name: videoTitle, dtype: object"
      ]
     },
     "execution_count": 19,
     "metadata": {},
     "output_type": "execute_result"
    }
   ],
   "source": [
    "temp = df_najwa['videoTitle'].str.lower().str.replace('\\W', ' ').str.split()\n",
    "temp.head()"
   ]
  },
  {
   "cell_type": "code",
   "execution_count": 20,
   "metadata": {},
   "outputs": [
    {
     "data": {
      "text/plain": [
       "'Transaksi Rekonsiliasi: Dulu Begini Sekarang Begitu ( ) | Mata Najwa'"
      ]
     },
     "execution_count": 20,
     "metadata": {},
     "output_type": "execute_result"
    }
   ],
   "source": [
    "df_najwa.iloc[2,1]"
   ]
  },
  {
   "cell_type": "code",
   "execution_count": 21,
   "metadata": {},
   "outputs": [
    {
     "data": {
      "text/html": [
       "<div>\n",
       "<style scoped>\n",
       "    .dataframe tbody tr th:only-of-type {\n",
       "        vertical-align: middle;\n",
       "    }\n",
       "\n",
       "    .dataframe tbody tr th {\n",
       "        vertical-align: top;\n",
       "    }\n",
       "\n",
       "    .dataframe thead th {\n",
       "        text-align: right;\n",
       "    }\n",
       "</style>\n",
       "<table border=\"1\" class=\"dataframe\">\n",
       "  <thead>\n",
       "    <tr style=\"text-align: right;\">\n",
       "      <th></th>\n",
       "      <th>channelTitle</th>\n",
       "      <th>videoTitle</th>\n",
       "      <th>viewCount</th>\n",
       "      <th>TitleLength</th>\n",
       "      <th>Word Number</th>\n",
       "      <th>Words</th>\n",
       "    </tr>\n",
       "  </thead>\n",
       "  <tbody>\n",
       "    <tr>\n",
       "      <th>0</th>\n",
       "      <td>Najwa Shihab</td>\n",
       "      <td>Transaksi Rekonsiliasi: Oposisi Dapat Kursi, S...</td>\n",
       "      <td>117990</td>\n",
       "      <td>85</td>\n",
       "      <td>13</td>\n",
       "      <td>[transaksi, rekonsiliasi, oposisi, kursi, setu...</td>\n",
       "    </tr>\n",
       "    <tr>\n",
       "      <th>1</th>\n",
       "      <td>Najwa Shihab</td>\n",
       "      <td>Transaksi Rekonsiliasi: Parpol Lompat Pagar ( ...</td>\n",
       "      <td>195197</td>\n",
       "      <td>65</td>\n",
       "      <td>10</td>\n",
       "      <td>[transaksi, rekonsiliasi, parpol, lompat, paga...</td>\n",
       "    </tr>\n",
       "    <tr>\n",
       "      <th>2</th>\n",
       "      <td>Najwa Shihab</td>\n",
       "      <td>Transaksi Rekonsiliasi: Dulu Begini Sekarang B...</td>\n",
       "      <td>371174</td>\n",
       "      <td>73</td>\n",
       "      <td>11</td>\n",
       "      <td>[transaksi, rekonsiliasi, mata, najwa]</td>\n",
       "    </tr>\n",
       "    <tr>\n",
       "      <th>3</th>\n",
       "      <td>Najwa Shihab</td>\n",
       "      <td>Transaksi Rekonsiliasi: Rekonsiliasi, Bagi-Bag...</td>\n",
       "      <td>217537</td>\n",
       "      <td>76</td>\n",
       "      <td>10</td>\n",
       "      <td>[transaksi, rekonsiliasi, rekonsiliasi, kursi,...</td>\n",
       "    </tr>\n",
       "    <tr>\n",
       "      <th>4</th>\n",
       "      <td>Najwa Shihab</td>\n",
       "      <td>Transaksi Rekonsiliasi - Pengamat: Rekonsilias...</td>\n",
       "      <td>280581</td>\n",
       "      <td>85</td>\n",
       "      <td>12</td>\n",
       "      <td>[transaksi, rekonsiliasi, pengamat, rekonsilia...</td>\n",
       "    </tr>\n",
       "  </tbody>\n",
       "</table>\n",
       "</div>"
      ],
      "text/plain": [
       "   channelTitle                                         videoTitle  viewCount  \\\n",
       "0  Najwa Shihab  Transaksi Rekonsiliasi: Oposisi Dapat Kursi, S...     117990   \n",
       "1  Najwa Shihab  Transaksi Rekonsiliasi: Parpol Lompat Pagar ( ...     195197   \n",
       "2  Najwa Shihab  Transaksi Rekonsiliasi: Dulu Begini Sekarang B...     371174   \n",
       "3  Najwa Shihab  Transaksi Rekonsiliasi: Rekonsiliasi, Bagi-Bag...     217537   \n",
       "4  Najwa Shihab  Transaksi Rekonsiliasi - Pengamat: Rekonsilias...     280581   \n",
       "\n",
       "   TitleLength  Word Number                                              Words  \n",
       "0           85           13  [transaksi, rekonsiliasi, oposisi, kursi, setu...  \n",
       "1           65           10  [transaksi, rekonsiliasi, parpol, lompat, paga...  \n",
       "2           73           11             [transaksi, rekonsiliasi, mata, najwa]  \n",
       "3           76           10  [transaksi, rekonsiliasi, rekonsiliasi, kursi,...  \n",
       "4           85           12  [transaksi, rekonsiliasi, pengamat, rekonsilia...  "
      ]
     },
     "execution_count": 21,
     "metadata": {},
     "output_type": "execute_result"
    }
   ],
   "source": [
    "import nltk\n",
    "from nltk.corpus import stopwords\n",
    "\n",
    "stop = set(stopwords.words('indonesian'))\n",
    "df_najwa['Words'] = temp.apply(lambda x: [item for item in x if item not in stop and not '\\\\' in item])\n",
    "df_najwa.head()"
   ]
  },
  {
   "cell_type": "code",
   "execution_count": 22,
   "metadata": {},
   "outputs": [
    {
     "data": {
      "image/png": "[encoded data removed]",
      "text/plain": [
       "<Figure size 720x360 with 1 Axes>"
      ]
     },
     "metadata": {},
     "output_type": "display_data"
    }
   ],
   "source": [
    "plot_top_performers('Words')"
   ]
  },
  {
   "cell_type": "code",
   "execution_count": 23,
   "metadata": {},
   "outputs": [],
   "source": [
    "def get_category_name(column_name):\n",
    "    return '{} Category'.format(column_name)"
   ]
  },
  {
   "cell_type": "code",
   "execution_count": 24,
   "metadata": {},
   "outputs": [
    {
     "data": {
      "image/png": "[encoded data removed]",
      "text/plain": [
       "<Figure size 720x360 with 1 Axes>"
      ]
     },
     "metadata": {},
     "output_type": "display_data"
    }
   ],
   "source": [
    "def get_range(value, ranges):\n",
    "    for idx,max_value in enumerate(ranges):\n",
    "        if value <= max_value:\n",
    "            previous = '({}'.format(ranges[idx-1]) if idx >= 1 else '[0'\n",
    "            return '{}, {}]'.format(previous, max_value)\n",
    "    return '{}+'.format(ranges[-1])\n",
    "\n",
    "# plot histogram of columns\n",
    "plt.figure(figsize=(10, 5))\n",
    "for el in columns:\n",
    "    class_name = el['column_name']\n",
    "    if class_name != title_length:\n",
    "        column = df_najwa[class_name]\n",
    "        plt.subplot(1, 1, columns.index(el) + 1)\n",
    "        plt.tight_layout()\n",
    "        ranges = {\n",
    "            'viewCount': [100000, 1000000]\n",
    "        }\n",
    "        column = [ get_range(a, ranges[class_name]) for a in column ]\n",
    "        plt.title('{}'.format(class_name))\n",
    "        pd.DataFrame(column)[0].hist(xrot=0)\n",
    "        \n",
    "        # add classification to dataframe\n",
    "        df_najwa[get_category_name(class_name)] = column"
   ]
  },
  {
   "cell_type": "code",
   "execution_count": 25,
   "metadata": {},
   "outputs": [
    {
     "data": {
      "image/png": "[encoded data removed]",
      "text/plain": [
       "<Figure size 360x360 with 1 Axes>"
      ]
     },
     "metadata": {},
     "output_type": "display_data"
    }
   ],
   "source": [
    "plt.figure(figsize=(5,5))\n",
    "ax = sns.countplot(x = 'viewCount Category', data=df_najwa, order=df_najwa['viewCount Category'].value_counts().index)"
   ]
  },
  {
   "cell_type": "code",
   "execution_count": 26,
   "metadata": {},
   "outputs": [
    {
     "data": {
      "text/plain": [
       "['(100000, 1000000]', '[0, 100000]', '1000000+']"
      ]
     },
     "execution_count": 26,
     "metadata": {},
     "output_type": "execute_result"
    }
   ],
   "source": [
    "df_najwa['viewCount Category'].unique().tolist()"
   ]
  },
  {
   "cell_type": "code",
   "execution_count": 27,
   "metadata": {},
   "outputs": [],
   "source": [
    "from sklearn.model_selection import train_test_split\n",
    "import re"
   ]
  },
  {
   "cell_type": "code",
   "execution_count": 28,
   "metadata": {},
   "outputs": [],
   "source": [
    "# clean the title\n",
    "def clean_title(text):\n",
    "    # remove twitter users, leave @ for stats reason\n",
    "    text = text.map(lambda x: re.sub('@[_A-Za-z0-9]+','@',str(x)))\n",
    "    return text\n",
    "\n",
    "\n",
    "def split_data(df_najwa, class_name, is_remove_outlier, is_clean_text):\n",
    "            # remove outliers\n",
    "            if is_remove_outlier:\n",
    "                title_stat_top = remove_outliers(df_najwa, class_name)\n",
    "            else:\n",
    "                title_stat_top = df_najwa\n",
    "                \n",
    "            # Set the number of testing points\n",
    "            if is_clean_text:\n",
    "                X_all = clean_title(title_stat_top['videoTitle'])\n",
    "            else:\n",
    "                X_all = title_stat_top['videoTitle']\n",
    "            y_all = title_stat_top[get_category_name(class_name)]\n",
    "\n",
    "            # Shuffle and split the dataset into the number of training and testing points above\n",
    "            X_train, X_test, y_train, y_test = train_test_split(X_all, y_all, test_size=ratios[class_name], shuffle=False)\n",
    "        \n",
    "            return {\n",
    "                'title_stat_top': title_stat_top,\n",
    "                'X_all': X_all,\n",
    "                'y_all': y_all,\n",
    "                'X_train': X_train,\n",
    "                'X_test': X_test,\n",
    "                'y_train': y_train,\n",
    "                'y_test': y_test\n",
    "            }"
   ]
  },
  {
   "cell_type": "code",
   "execution_count": 29,
   "metadata": {},
   "outputs": [
    {
     "name": "stdout",
     "output_type": "stream",
     "text": [
      "viewCount\n",
      "Total: 1142 items.\n",
      "Total without outliers: 1013\n",
      "Training set has 810 samples\n",
      "Testing set has 203 samples\n",
      "\n"
     ]
    }
   ],
   "source": [
    "X_all = {}\n",
    "y_all = {}\n",
    "X_train = {}\n",
    "X_test = {}\n",
    "y_train = {}\n",
    "y_test = {}\n",
    "\n",
    "ratios = {\n",
    "    'viewCount': 0.2\n",
    "}\n",
    "\n",
    "for el in columns:\n",
    "    column = df_najwa[el['column_name']]\n",
    "    class_name = el['column_name']\n",
    "    if class_name != title_length:\n",
    "        values = split_data(df_najwa, class_name, True, True)\n",
    "        title_stat_top, X_all[class_name], y_all[class_name], X_train[class_name], X_test[class_name], y_train[class_name], y_test[class_name] = [values[k] for k in ('title_stat_top', 'X_all','y_all', 'X_train', 'X_test', 'y_train', 'y_test')]\n",
    "        \n",
    "        total = df_najwa[class_name].count()\n",
    "        total_no_outliers = title_stat_top[class_name].count()\n",
    "        print('{}\\nTotal: {} items.\\nTotal without outliers: {}'.format(class_name, total, total_no_outliers))\n",
    "        \n",
    "        # Show the results of the split\n",
    "        print(\"Training set has {} samples\".format(X_train[class_name].shape[0]))\n",
    "        print(\"Testing set has {} samples\\n\".format(X_test[class_name].shape[0]))"
   ]
  },
  {
   "cell_type": "code",
   "execution_count": 30,
   "metadata": {},
   "outputs": [],
   "source": [
    "from sklearn.pipeline import Pipeline, FeatureUnion\n",
    "from sklearn.feature_extraction.text import CountVectorizer, TfidfTransformer, TfidfVectorizer\n",
    "from sklearn.svm import LinearSVC, SVC\n",
    "from sklearn.multiclass import OneVsRestClassifier\n",
    "from sklearn.preprocessing import FunctionTransformer\n",
    "from sklearn.metrics import accuracy_score, confusion_matrix, classification_report\n",
    "from sklearn.naive_bayes import GaussianNB, MultinomialNB\n",
    "from sklearn.tree import DecisionTreeClassifier\n",
    "from sklearn.linear_model import LogisticRegression\n",
    "from sklearn.neighbors import KNeighborsClassifier\n",
    "from sklearn.ensemble import GradientBoostingClassifier"
   ]
  },
  {
   "cell_type": "code",
   "execution_count": 31,
   "metadata": {},
   "outputs": [],
   "source": [
    "import nltk\n",
    "from nltk.corpus import stopwords\n",
    "stop = set(stopwords.words('indonesian'))"
   ]
  },
  {
   "cell_type": "code",
   "execution_count": 32,
   "metadata": {},
   "outputs": [],
   "source": [
    "X_train_word_features = {}\n",
    "test_features = {}"
   ]
  },
  {
   "cell_type": "code",
   "execution_count": 33,
   "metadata": {},
   "outputs": [],
   "source": [
    "def get_text_length(x):\n",
    "    return np.array([len(t) for t in x]).reshape(-1, 1)\n",
    "\n",
    "def get_words_length(x):\n",
    "    return np.array([len(t.split()) for t in x]).reshape(-1, 1)\n",
    "\n",
    "def to_array(x):\n",
    "    return x.toarray()"
   ]
  },
  {
   "cell_type": "code",
   "execution_count": 34,
   "metadata": {},
   "outputs": [],
   "source": [
    "classifiers = [\n",
    "    {\n",
    "        'classifier': GaussianNB(),\n",
    "        'toarray': True,\n",
    "        'parameters': {}\n",
    "    },\n",
    "    {\n",
    "        'classifier': LogisticRegression(),\n",
    "        'toarray': False,\n",
    "        'parameters': {\n",
    "            'C': [0.1, 0.5, 1, 2, 10],\n",
    "            'fit_intercept': [True, False],\n",
    "            'class_weight': ['balanced', None],\n",
    "            'solver': ['newton-cg', 'lbfgs', 'liblinear', 'saga'],\n",
    "            'max_iter': [10, 100, 300]\n",
    "        }\n",
    "    },\n",
    "    {\n",
    "        'classifier': DecisionTreeClassifier(),\n",
    "        'toarray': False,\n",
    "        'parameters': {\n",
    "            'splitter': ['random', 'best'],\n",
    "            'max_depth': [1, 5, 10, 20, None],\n",
    "            'class_weight': ['balanced', None]\n",
    "        }\n",
    "    },\n",
    "    {\n",
    "        'classifier': SVC(),\n",
    "        'toarray': True,\n",
    "        'parameters': {\n",
    "            'kernel':['linear', 'poly', 'rbf', 'sigmoid'],\n",
    "            'degree':[1, 2, 3, 4, 5, 6, 7],\n",
    "            'C':[0.5, 1, 2],\n",
    "        }\n",
    "    },\n",
    "    {\n",
    "        'classifier': KNeighborsClassifier(),\n",
    "        'toarray': False,\n",
    "        'parameters': {\n",
    "            'n_neighbors': [1, 5, 10, 15, 20, 30], \n",
    "            'weights': ['distance', 'uniform'],\n",
    "            'algorithm': ['auto', 'ball_tree', 'kd_tree', 'brute'],\n",
    "            'leaf_size': [10, 30, 50],\n",
    "        }\n",
    "    },\n",
    "    {\n",
    "        'classifier': MultinomialNB(),\n",
    "        'toarray': False,\n",
    "        'parameters': {\n",
    "                'alpha': [0, 0.5, 1],\n",
    "                'fit_prior': [True, False]\n",
    "        }\n",
    "    },\n",
    "    {\n",
    "        'classifier': GradientBoostingClassifier(),\n",
    "        'toarray': False,\n",
    "        'parameters': {\n",
    "            'learning_rate': [0.1, 0.5, 1.0],\n",
    "            'loss': ['deviance'],\n",
    "            'max_depth': [3, 5, 10],\n",
    "            'max_features': [None],\n",
    "            'min_samples_leaf': [1, 2],\n",
    "            'min_samples_split': [0.1, 0.5, 1.0],\n",
    "            'min_weight_fraction_leaf': [0.0],\n",
    "            'n_estimators': [50, 100],\n",
    "            'random_state': [0, None],\n",
    "            'subsample': [1.0],\n",
    "            'warm_start': [False]\n",
    "        }\n",
    "    }\n",
    "]"
   ]
  },
  {
   "cell_type": "code",
   "execution_count": 35,
   "metadata": {},
   "outputs": [],
   "source": [
    "def get_score_pipeline(classifier_algo, X_train, y_train):\n",
    "    classifier = Pipeline([\n",
    "        ('features', FeatureUnion([\n",
    "            ('text', Pipeline([\n",
    "                ('vectorizer', TfidfVectorizer(\n",
    "                                    stop_words=stop,\n",
    "                                    strip_accents='unicode',\n",
    "                                    token_pattern=r'\\w{1,}',\n",
    "                                    analyzer='word',\n",
    "                                    ngram_range=(1,1),\n",
    "                )),\n",
    "                ('toarray', Pipeline([\n",
    "                    ('count', FunctionTransformer(to_array, validate=False)),\n",
    "                ]))\n",
    "            ])),\n",
    "            ('length', Pipeline([\n",
    "                ('count', FunctionTransformer(get_text_length, validate=False)),\n",
    "            ])),\n",
    "            ('size', Pipeline([\n",
    "                ('count', FunctionTransformer(get_words_length, validate=False))\n",
    "            ]))\n",
    "        ])),\n",
    "        ('clf', OneVsRestClassifier(classifier_algo))])\n",
    "    \n",
    "    cv_score = np.mean(cross_val_score(classifier, X_train, y_train, cv=5, scoring='accuracy'))\n",
    "    print('\\t\\tAccuracy Score: {}'.format(cv_score))\n",
    "    return cv_score"
   ]
  },
  {
   "cell_type": "code",
   "execution_count": 36,
   "metadata": {},
   "outputs": [],
   "source": [
    "def get_score(classifier_algo, X_train, X_test, y_train, y_test, name, is_td_idf=True, is_stop_word=True):\n",
    "    tokens = tokenize(X_train, X_test, is_td_idf, is_stop_word)\n",
    "    _X_train = tokens['X_train']\n",
    "    _X_test = tokens['X_test']\n",
    "\n",
    "    # fit model\n",
    "    classifier_algo.fit(_X_train, y_train)\n",
    "    # predict\n",
    "    y_pred = classifier_algo.predict(_X_test)\n",
    "    # measure\n",
    "    cv_score = accuracy_score(y_test, y_pred)\n",
    "    print('\\t\\tAccuracy score ({}): {}'.format(name, cv_score))\n",
    "    return cv_score"
   ]
  },
  {
   "cell_type": "code",
   "execution_count": 37,
   "metadata": {},
   "outputs": [],
   "source": [
    "def set_statistic_score(class_name, cv_score, model_name, accuracy, classifier_name):\n",
    "    if class_name not in accuracy or accuracy[class_name] < cv_score:\n",
    "        accuracy[class_name] = cv_score\n",
    "        classifier_name[class_name] = model_name"
   ]
  },
  {
   "cell_type": "code",
   "execution_count": 38,
   "metadata": {},
   "outputs": [],
   "source": [
    "def print_complete_stat(X_train, y_train, X_test, y_test):\n",
    "    classifier.fit(X_train, y_train)\n",
    "    y_pred = classifier.predict(X_test)\n",
    "    print(classification_report(y_test, y_pred))\n",
    "    print(confusion_matrix(X_test, y_test))"
   ]
  },
  {
   "cell_type": "code",
   "execution_count": 39,
   "metadata": {},
   "outputs": [],
   "source": [
    "def tokenize(X_train, X_test, is_td_idf=True, is_stop_word=True):\n",
    "    #TfidfVectorizer#CountVectorizer\n",
    "    if is_td_idf:\n",
    "        tokenizr = TfidfVectorizer\n",
    "    else:\n",
    "        tokenizr = CountVectorizer\n",
    "    \n",
    "    if is_stop_word:\n",
    "        stop_words=stop\n",
    "    else:\n",
    "        stop_words=None\n",
    "        \n",
    "    word_vectorizer = tokenizr(\n",
    "                        stop_words=stop_words,\n",
    "                        strip_accents='unicode',\n",
    "                        token_pattern=r'\\w{1,}',\n",
    "                        analyzer='word',\n",
    "                        ngram_range=(1, 1))\n",
    "\n",
    "    word_vectorizer.fit(X_train)\n",
    "    _X_train = word_vectorizer.transform(X_train)\n",
    "    _X_train = np.append(_X_train.todense(), get_text_length(X_train), 1)\n",
    "    _X_train = np.append(_X_train, get_words_length(X_train), 1)\n",
    "    _X_test = word_vectorizer.transform(X_test)\n",
    "    _X_test = np.append(_X_test.todense(), get_text_length(X_test), 1)\n",
    "    _X_test = np.append(_X_test, get_words_length(X_test), 1)\n",
    "    return {\n",
    "        'X_train': _X_train,\n",
    "        'X_test': _X_test\n",
    "    }"
   ]
  },
  {
   "cell_type": "code",
   "execution_count": 40,
   "metadata": {},
   "outputs": [],
   "source": [
    "def set_score_stat(classifier_algo, class_name, X_train, X_test, y_train, y_test, accuracy, classifier_name, is_default):\n",
    "    name_type = 'default' if is_default else 'optimized'\n",
    "    name = '{} ({})'.format(classifier_algo.__class__.__name__, name_type)\n",
    "    # cv_score = get_score_pipeline(classifier_algo, X_all[class_name], y_all[class_name])\n",
    "    cv_score = get_score(classifier_algo, X_train, X_test, y_train, y_test, name_type)\n",
    "    # store value, if better than others\n",
    "    set_statistic_score(class_name, cv_score, name, accuracy, classifier_name)"
   ]
  },
  {
   "cell_type": "code",
   "execution_count": 41,
   "metadata": {},
   "outputs": [],
   "source": [
    "import warnings\n",
    "warnings.filterwarnings(\"ignore\", category=FutureWarning)\n"
   ]
  },
  {
   "cell_type": "code",
   "execution_count": 42,
   "metadata": {},
   "outputs": [
    {
     "name": "stdout",
     "output_type": "stream",
     "text": [
      "Default classifiers\n",
      "Classifier: GaussianNB\n",
      "\tviewCount\n",
      "\t\tAccuracy score (default): 0.571428571429\n",
      "Classifier: LogisticRegression\n",
      "\tviewCount\n",
      "\t\tAccuracy score (default): 0.689655172414\n",
      "Classifier: DecisionTreeClassifier\n",
      "\tviewCount\n"
     ]
    },
    {
     "name": "stderr",
     "output_type": "stream",
     "text": [
      "/Users/anggapradiktas/anaconda3/envs/py36/lib/python2.7/site-packages/sklearn/feature_extraction/text.py:300: UserWarning: Your stop_words may be inconsistent with your preprocessing. Tokenizing the stop words generated tokens [u'baiknya', u'berkali', u'kali', u'kurangnya', u'mata', u'olah', u'sekurang', u'setidak', u'tama', u'tidaknya'] not in stop_words.\n",
      "  'stop_words.' % sorted(inconsistent))\n",
      "/Users/anggapradiktas/anaconda3/envs/py36/lib/python2.7/site-packages/sklearn/feature_extraction/text.py:300: UserWarning: Your stop_words may be inconsistent with your preprocessing. Tokenizing the stop words generated tokens [u'baiknya', u'berkali', u'kali', u'kurangnya', u'mata', u'olah', u'sekurang', u'setidak', u'tama', u'tidaknya'] not in stop_words.\n",
      "  'stop_words.' % sorted(inconsistent))\n",
      "/Users/anggapradiktas/anaconda3/envs/py36/lib/python2.7/site-packages/sklearn/feature_extraction/text.py:300: UserWarning: Your stop_words may be inconsistent with your preprocessing. Tokenizing the stop words generated tokens [u'baiknya', u'berkali', u'kali', u'kurangnya', u'mata', u'olah', u'sekurang', u'setidak', u'tama', u'tidaknya'] not in stop_words.\n",
      "  'stop_words.' % sorted(inconsistent))\n"
     ]
    },
    {
     "name": "stdout",
     "output_type": "stream",
     "text": [
      "\t\tAccuracy score (default): 0.571428571429\n",
      "Classifier: SVC\n",
      "\tviewCount\n"
     ]
    },
    {
     "name": "stderr",
     "output_type": "stream",
     "text": [
      "/Users/anggapradiktas/anaconda3/envs/py36/lib/python2.7/site-packages/sklearn/feature_extraction/text.py:300: UserWarning: Your stop_words may be inconsistent with your preprocessing. Tokenizing the stop words generated tokens [u'baiknya', u'berkali', u'kali', u'kurangnya', u'mata', u'olah', u'sekurang', u'setidak', u'tama', u'tidaknya'] not in stop_words.\n",
      "  'stop_words.' % sorted(inconsistent))\n"
     ]
    },
    {
     "name": "stdout",
     "output_type": "stream",
     "text": [
      "\t\tAccuracy score (default): 0.64039408867\n",
      "Classifier: KNeighborsClassifier\n",
      "\tviewCount\n",
      "\t\tAccuracy score (default): 0.64039408867\n",
      "Classifier: MultinomialNB\n",
      "\tviewCount\n",
      "\t\tAccuracy score (default): 0.428571428571\n",
      "Classifier: GradientBoostingClassifier\n",
      "\tviewCount\n"
     ]
    },
    {
     "name": "stderr",
     "output_type": "stream",
     "text": [
      "/Users/anggapradiktas/anaconda3/envs/py36/lib/python2.7/site-packages/sklearn/feature_extraction/text.py:300: UserWarning: Your stop_words may be inconsistent with your preprocessing. Tokenizing the stop words generated tokens [u'baiknya', u'berkali', u'kali', u'kurangnya', u'mata', u'olah', u'sekurang', u'setidak', u'tama', u'tidaknya'] not in stop_words.\n",
      "  'stop_words.' % sorted(inconsistent))\n",
      "/Users/anggapradiktas/anaconda3/envs/py36/lib/python2.7/site-packages/sklearn/feature_extraction/text.py:300: UserWarning: Your stop_words may be inconsistent with your preprocessing. Tokenizing the stop words generated tokens [u'baiknya', u'berkali', u'kali', u'kurangnya', u'mata', u'olah', u'sekurang', u'setidak', u'tama', u'tidaknya'] not in stop_words.\n",
      "  'stop_words.' % sorted(inconsistent))\n",
      "/Users/anggapradiktas/anaconda3/envs/py36/lib/python2.7/site-packages/sklearn/feature_extraction/text.py:300: UserWarning: Your stop_words may be inconsistent with your preprocessing. Tokenizing the stop words generated tokens [u'baiknya', u'berkali', u'kali', u'kurangnya', u'mata', u'olah', u'sekurang', u'setidak', u'tama', u'tidaknya'] not in stop_words.\n",
      "  'stop_words.' % sorted(inconsistent))\n"
     ]
    },
    {
     "name": "stdout",
     "output_type": "stream",
     "text": [
      "\t\tAccuracy score (default): 0.610837438424\n",
      "Best scores: \n",
      "{'viewCount': 0.6896551724137931}\n",
      "{'viewCount': 'LogisticRegression (default)'}\n"
     ]
    }
   ],
   "source": [
    "classifier_name = {}\n",
    "accuracy = {}\n",
    "\n",
    "print('Default classifiers')\n",
    "\n",
    "for clf in classifiers:\n",
    "    print('Classifier: {}'.format(clf['classifier'].__class__.__name__))\n",
    "    for el in columns:\n",
    "        column = df_najwa[el['column_name']]\n",
    "        class_name = el['column_name']\n",
    "        if class_name != title_length:\n",
    "            name='classifier-{}'.format(class_name)\n",
    "            classifier_algo = clf[name] if name in clf else clf['classifier']\n",
    "            print('\\t{}'.format(class_name))\n",
    "            \n",
    "            set_score_stat(classifier_algo, class_name, X_train[class_name], X_test[class_name], y_train[class_name], y_test[class_name], accuracy, classifier_name, True)\n",
    "            \n",
    "print('Best scores: ')\n",
    "print(accuracy)\n",
    "print(classifier_name)"
   ]
  },
  {
   "cell_type": "code",
   "execution_count": 43,
   "metadata": {},
   "outputs": [],
   "source": [
    "from sklearn.model_selection import GridSearchCV\n",
    "from sklearn.metrics import make_scorer\n",
    "from scipy.sparse import hstack"
   ]
  },
  {
   "cell_type": "code",
   "execution_count": 44,
   "metadata": {},
   "outputs": [],
   "source": [
    "accuracy = {}\n",
    "classifier_name = {}\n",
    "import warnings; warnings.simplefilter('ignore')"
   ]
  },
  {
   "cell_type": "code",
   "execution_count": 45,
   "metadata": {},
   "outputs": [
    {
     "name": "stdout",
     "output_type": "stream",
     "text": [
      "Classifier: GaussianNB\n",
      "\t==viewCount==\n",
      "\t\tAccuracy score (default): 0.610837438424\n",
      "Model Best Estimator: GaussianNB(priors=None, var_smoothing=1e-09)\n",
      "\t\tAccuracy score (optimized): 0.571428571429\n",
      "Classifier: GaussianNB\n",
      "Classifier: LogisticRegression\n",
      "\t==viewCount==\n",
      "\t\tAccuracy score (default): 0.571428571429\n",
      "Model Best Estimator: LogisticRegression(C=0.5, class_weight=None, dual=False, fit_intercept=True,\n",
      "          intercept_scaling=1, max_iter=10, multi_class='warn',\n",
      "          n_jobs=None, penalty='l2', random_state=None, solver='liblinear',\n",
      "          tol=0.0001, verbose=0, warm_start=False)\n",
      "\t\tAccuracy score (optimized): 0.704433497537\n",
      "Classifier: LogisticRegression\n",
      "Classifier: DecisionTreeClassifier\n",
      "\t==viewCount==\n",
      "\t\tAccuracy score (default): 0.704433497537\n",
      "Model Best Estimator: DecisionTreeClassifier(class_weight='balanced', criterion='gini', max_depth=1,\n",
      "            max_features=None, max_leaf_nodes=None,\n",
      "            min_impurity_decrease=0.0, min_impurity_split=None,\n",
      "            min_samples_leaf=1, min_samples_split=2,\n",
      "            min_weight_fraction_leaf=0.0, presort=False, random_state=None,\n",
      "            splitter='best')\n",
      "\t\tAccuracy score (optimized): 0.625615763547\n",
      "Classifier: DecisionTreeClassifier\n",
      "Classifier: SVC\n",
      "\t==viewCount==\n",
      "\t\tAccuracy score (default): 0.625615763547\n",
      "Model Best Estimator: SVC(C=0.5, cache_size=200, class_weight=None, coef0=0.0,\n",
      "  decision_function_shape='ovr', degree=1, gamma='auto_deprecated',\n",
      "  kernel='rbf', max_iter=-1, probability=False, random_state=None,\n",
      "  shrinking=True, tol=0.001, verbose=False)\n",
      "\t\tAccuracy score (optimized): 0.645320197044\n",
      "Classifier: SVC\n",
      "Classifier: KNeighborsClassifier\n",
      "\t==viewCount==\n",
      "\t\tAccuracy score (default): 0.645320197044\n",
      "Model Best Estimator: KNeighborsClassifier(algorithm='auto', leaf_size=10, metric='minkowski',\n",
      "           metric_params=None, n_jobs=None, n_neighbors=5, p=2,\n",
      "           weights='distance')\n",
      "\t\tAccuracy score (optimized): 0.625615763547\n",
      "Classifier: KNeighborsClassifier\n",
      "Classifier: MultinomialNB\n",
      "\t==viewCount==\n",
      "\t\tAccuracy score (default): 0.625615763547\n",
      "Model Best Estimator: MultinomialNB(alpha=0.5, class_prior=None, fit_prior=False)\n",
      "\t\tAccuracy score (optimized): 0.472906403941\n",
      "Classifier: MultinomialNB\n",
      "Classifier: GradientBoostingClassifier\n",
      "\t==viewCount==\n",
      "\t\tAccuracy score (default): 0.472906403941\n",
      "Model Best Estimator: GradientBoostingClassifier(criterion='friedman_mse', init=None,\n",
      "              learning_rate=0.1, loss='deviance', max_depth=5,\n",
      "              max_features=None, max_leaf_nodes=None,\n",
      "              min_impurity_decrease=0.0, min_impurity_split=None,\n",
      "              min_samples_leaf=2, min_samples_split=1.0,\n",
      "              min_weight_fraction_leaf=0.0, n_estimators=50,\n",
      "              n_iter_no_change=None, presort='auto', random_state=None,\n",
      "              subsample=1.0, tol=0.0001, validation_fraction=0.1,\n",
      "              verbose=0, warm_start=False)\n",
      "\t\tAccuracy score (optimized): 0.615763546798\n",
      "Classifier: GradientBoostingClassifier\n"
     ]
    }
   ],
   "source": [
    "for classifier in classifiers:\n",
    "    for el in columns:\n",
    "        column = df_najwa[el['column_name']]\n",
    "        class_name = el['column_name']\n",
    "        clf = classifier['classifier']\n",
    "        parameters = classifier['parameters']\n",
    "        print('Classifier: {}'.format(clf.__class__.__name__))\n",
    "        if class_name != title_length:\n",
    "            print('\\t=={}=='.format(class_name))\n",
    "            \n",
    "            set_score_stat(classifier_algo, class_name, X_train[class_name], X_test[class_name], \n",
    "                           y_train[class_name], y_test[class_name].values, accuracy, classifier_name, True)\n",
    "            \n",
    "            grid_obj = GridSearchCV(clf, param_grid=parameters, scoring=make_scorer(accuracy_score))\n",
    "            tokens = tokenize(X_train[class_name], X_test[class_name])\n",
    "            _X_train = tokens['X_train']\n",
    "            \n",
    "            grid_obj = grid_obj.fit(_X_train, y_train[class_name])\n",
    "            \n",
    "            print('Model Best Estimator: {}'.format(grid_obj.best_estimator_))\n",
    "            \n",
    "            #models_winners[class_name] = grid_obj.best_estimator_\n",
    "            \n",
    "            classifier_algo = grid_obj.best_estimator_\n",
    "            \n",
    "            set_score_stat(classifier_algo, class_name, X_train[class_name], X_test[class_name],\n",
    "                          y_train[class_name], y_test[class_name].values, accuracy, classifier_name, False)"
   ]
  },
  {
   "cell_type": "code",
   "execution_count": 46,
   "metadata": {},
   "outputs": [
    {
     "name": "stdout",
     "output_type": "stream",
     "text": [
      "\t=viewCount=\n",
      "Benchmark\n",
      "\t\tAccuracy score (benchmark): 0.620087336245\n",
      "No outlier\n",
      "\t\tAccuracy score (t1): 0.64039408867\n",
      "No outlier + clean words\n",
      "\t\tAccuracy score (t2): 0.64039408867\n",
      "No outlier + clean words + td-idf\n",
      "\t\tAccuracy score (t3): 0.679802955665\n",
      "No outlier + clean words + td-idf + stopwords\n",
      "\t\tAccuracy score (t4): 0.689655172414\n",
      "Winner model = No outliers + clean words + td-idf + stopwords + parameter tuned\n",
      "\t\tAccuracy score (winner): 0.704433497537\n"
     ]
    }
   ],
   "source": [
    "models_winners = {\n",
    "    'viewCount': LogisticRegression(C=0.5, class_weight=None, dual=False, fit_intercept=True,\n",
    "          intercept_scaling=1, max_iter=10, multi_class='warn',\n",
    "          n_jobs=None, penalty='l2', random_state=None, solver='liblinear',\n",
    "          tol=0.0001, verbose=0, warm_start=False)\n",
    "}\n",
    "\n",
    "info = {}\n",
    "for el in columns:\n",
    "    column = df_najwa[el['column_name']]\n",
    "    class_name = el['column_name']\n",
    "    acc = []\n",
    "    if class_name != title_length:\n",
    "        print('\\t={}='.format(class_name))\n",
    "        \n",
    "        configurations = [\n",
    "            {'is_remove_outlier':False, 'is_clean_text':False, 'is_td_idf':False, 'is_stop_word': False, 'title':'Benchmark',\n",
    "             'tag':'benchmark', 'model_winner':False},\n",
    "            {'is_remove_outlier': True, 'is_clean_text': False, 'is_td_idf': False, 'is_stop_word':  False, 'title': 'No outlier', 'tag': 't1', 'model_winner': False},\n",
    "            {'is_remove_outlier': True, 'is_clean_text': True, 'is_td_idf': False, 'is_stop_word':  False, 'title': 'No outlier + clean words', 'tag': 't2', 'model_winner': False},\n",
    "            {'is_remove_outlier': True, 'is_clean_text': True, 'is_td_idf': True, 'is_stop_word':  False, 'title': 'No outlier + clean words + td-idf', 'tag': 't3', 'model_winner': False},\n",
    "            {'is_remove_outlier': True, 'is_clean_text': True, 'is_td_idf': True, 'is_stop_word':  True, 'title': 'No outlier + clean words + td-idf + stopwords', 'tag': 't4', 'model_winner': False},\n",
    "            {'is_remove_outlier': True, 'is_clean_text': True, 'is_td_idf': True, 'is_stop_word':  True, 'title': 'Winner model = No outliers + clean words + td-idf + stopwords + parameter tuned', 'tag': 'winner', 'model_winner': True},\n",
    "        ]\n",
    "        \n",
    "        for c in configurations:\n",
    "            print(c['title'])\n",
    "            classifier_algo=models_winners[class_name] if c['model_winner'] else LogisticRegression()\n",
    "            values = split_data(df_najwa, class_name, c['is_remove_outlier'], c['is_clean_text'])\n",
    "            \n",
    "            title_stat_top2, X2_all, y2_all, X2_train, X2_test, y2_train, y2_test = [values[k] for k in ('title_stat_top', 'X_all','y_all', 'X_train', 'X_test', 'y_train', 'y_test')]\n",
    "            acc.append(get_score(classifier_algo, X2_train, X2_test, y2_train, y2_test, c['tag'], c['is_td_idf'], c['is_stop_word']))\n",
    "\n",
    "        info[class_name] = pd.DataFrame({\n",
    "            'evolution': ['benchmark', 't1', 't2', 't3', 't4', 'winner'], \n",
    "            'accuracy': list(map(lambda x: 100*x, acc))\n",
    "        })"
   ]
  },
  {
   "cell_type": "code",
   "execution_count": 47,
   "metadata": {},
   "outputs": [
    {
     "data": {
      "image/png": "[encoded data removed]",
      "text/plain": [
       "<Figure size 720x360 with 1 Axes>"
      ]
     },
     "metadata": {},
     "output_type": "display_data"
    }
   ],
   "source": [
    "plt.figure(figsize=(10, 5))\n",
    "for el in columns:\n",
    "    class_name = el['column_name']\n",
    "    if class_name != title_length:\n",
    "        plt.subplot(1, 3, columns.index(el) + 1)\n",
    "        plt.tight_layout()\n",
    "        plt.title(class_name);\n",
    "        values = info[class_name]\n",
    "        sns.barplot(values['evolution'], values['accuracy'])\n",
    "        #sns.despine()"
   ]
  },
  {
   "cell_type": "markdown",
   "metadata": {},
   "source": [
    "<b>\n",
    "Benchmark\n",
    "<br>\n",
    "t1: Removed outliers\n",
    "<br>\n",
    "t2: t1 + Cleaned the words\n",
    "<br>\n",
    "t3: t2 + Added TF-IDF\n",
    "<br>\n",
    "t4: t3 + Used stopwords\n",
    "<br>\n",
    "Winner: t4 + Parameters from the model tuned\n",
    "</b>"
   ]
  },
  {
   "cell_type": "code",
   "execution_count": 48,
   "metadata": {},
   "outputs": [],
   "source": [
    "# from sklearn.externals import joblib \n",
    "# joblib.dump(grid_obj.best_estimator_, 'grid_obj.pkl') "
   ]
  },
  {
   "cell_type": "code",
   "execution_count": 49,
   "metadata": {},
   "outputs": [],
   "source": [
    "# joblib.dump(grid_obj.best_params_, 'grid_obj_best_params.pkl')"
   ]
  },
  {
   "cell_type": "code",
   "execution_count": 50,
   "metadata": {},
   "outputs": [],
   "source": [
    "#df_najwa['videoTitle'] = df_najwa['videoTitle'].map(lambda x: re.sub(r'\\W+', ' ', x)).str.lower()"
   ]
  },
  {
   "cell_type": "code",
   "execution_count": 51,
   "metadata": {},
   "outputs": [],
   "source": [
    "#df_najwa.to_csv('df_najwa.csv')"
   ]
  },
  {
   "cell_type": "code",
   "execution_count": 52,
   "metadata": {},
   "outputs": [],
   "source": [
    "# import pickle\n",
    "# pickle.dump(grid_obj.best_params_, open('final_prediction.pickle', 'wb'))"
   ]
  },
  {
   "cell_type": "code",
   "execution_count": 53,
   "metadata": {},
   "outputs": [],
   "source": [
    "# df_najwa['viewCount Category']"
   ]
  }
 ],
 "metadata": {
  "kernelspec": {
   "display_name": "Python 3",
   "language": "python",
   "name": "python3"
  },
  "language_info": {
   "codemirror_mode": {
    "name": "ipython",
    "version": 2
   },
   "file_extension": ".py",
   "mimetype": "text/x-python",
   "name": "python",
   "nbconvert_exporter": "python",
   "pygments_lexer": "ipython2",
   "version": "2.7.16"
  }
 },
 "nbformat": 4,
 "nbformat_minor": 2
}
