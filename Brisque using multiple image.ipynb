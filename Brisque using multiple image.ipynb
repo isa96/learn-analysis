{
 "cells": [
  {
   "cell_type": "markdown",
   "metadata": {},
   "source": [
    "#### DATA PREPROCESSING"
   ]
  },
  {
   "cell_type": "code",
   "execution_count": 1,
   "metadata": {},
   "outputs": [],
   "source": [
    "import pandas as pd\n",
    "df = pd.read_csv('titleYoutube.csv')"
   ]
  },
  {
   "cell_type": "code",
   "execution_count": 2,
   "metadata": {},
   "outputs": [],
   "source": [
    "df = df.drop(['videoDescription', 'videoCategoryLabel','Unnamed: 0','position','channelId','videoId','publishedAt','publishedAtSQL','videoCategoryId',\n",
    "                         'duration','durationSec', 'dimension', 'definition', 'caption', 'licensedContent', 'video_link', 'datePublished',\n",
    "                         'timePublished', 'datePublishedSQL', 'timePublishedSQL','__index_level_0__','favoriteCount'], axis=1)"
   ]
  },
  {
   "cell_type": "code",
   "execution_count": 3,
   "metadata": {},
   "outputs": [
    {
     "data": {
      "text/html": [
       "<div>\n",
       "<style scoped>\n",
       "    .dataframe tbody tr th:only-of-type {\n",
       "        vertical-align: middle;\n",
       "    }\n",
       "\n",
       "    .dataframe tbody tr th {\n",
       "        vertical-align: top;\n",
       "    }\n",
       "\n",
       "    .dataframe thead th {\n",
       "        text-align: right;\n",
       "    }\n",
       "</style>\n",
       "<table border=\"1\" class=\"dataframe\">\n",
       "  <thead>\n",
       "    <tr style=\"text-align: right;\">\n",
       "      <th></th>\n",
       "      <th>channelTitle</th>\n",
       "      <th>videoTitle</th>\n",
       "      <th>viewCount</th>\n",
       "      <th>likeCount</th>\n",
       "      <th>dislikeCount</th>\n",
       "      <th>commentCount</th>\n",
       "      <th>thumbnail</th>\n",
       "    </tr>\n",
       "  </thead>\n",
       "  <tbody>\n",
       "    <tr>\n",
       "      <th>0</th>\n",
       "      <td>Najwa Shihab</td>\n",
       "      <td>Di Balik Layar Hiduplah Hari Ini - Dialog Dini...</td>\n",
       "      <td>28751.0</td>\n",
       "      <td>903.0</td>\n",
       "      <td>23.0</td>\n",
       "      <td>71.0</td>\n",
       "      <td>http://img.youtube.com/vi/ZmlZpOLRMhE/0.jpg</td>\n",
       "    </tr>\n",
       "    <tr>\n",
       "      <th>1</th>\n",
       "      <td>metrotvnews</td>\n",
       "      <td>Interview with SISITIPSI</td>\n",
       "      <td>11647.0</td>\n",
       "      <td>96.0</td>\n",
       "      <td>2.0</td>\n",
       "      <td>5.0</td>\n",
       "      <td>http://img.youtube.com/vi/S2DliNcO7LA/0.jpg</td>\n",
       "    </tr>\n",
       "    <tr>\n",
       "      <th>2</th>\n",
       "      <td>metrotvnews</td>\n",
       "      <td>SISITIPSI - Joni Santai [Live Performance]</td>\n",
       "      <td>13958.0</td>\n",
       "      <td>80.0</td>\n",
       "      <td>5.0</td>\n",
       "      <td>2.0</td>\n",
       "      <td>http://img.youtube.com/vi/Li3CZ7t03TA/0.jpg</td>\n",
       "    </tr>\n",
       "    <tr>\n",
       "      <th>3</th>\n",
       "      <td>metrotvnews</td>\n",
       "      <td>Realitas - Langkah Banding Kartel Motor</td>\n",
       "      <td>872.0</td>\n",
       "      <td>7.0</td>\n",
       "      <td>0.0</td>\n",
       "      <td>5.0</td>\n",
       "      <td>http://img.youtube.com/vi/OojiP1ph-eQ/0.jpg</td>\n",
       "    </tr>\n",
       "    <tr>\n",
       "      <th>4</th>\n",
       "      <td>metrotvnews</td>\n",
       "      <td>Target Operasi - Calo TKI Ilegal Timur Tengah</td>\n",
       "      <td>100847.0</td>\n",
       "      <td>316.0</td>\n",
       "      <td>39.0</td>\n",
       "      <td>315.0</td>\n",
       "      <td>http://img.youtube.com/vi/3Kx9YMT_ZIE/0.jpg</td>\n",
       "    </tr>\n",
       "  </tbody>\n",
       "</table>\n",
       "</div>"
      ],
      "text/plain": [
       "   channelTitle                                         videoTitle  viewCount  \\\n",
       "0  Najwa Shihab  Di Balik Layar Hiduplah Hari Ini - Dialog Dini...    28751.0   \n",
       "1   metrotvnews                           Interview with SISITIPSI    11647.0   \n",
       "2   metrotvnews         SISITIPSI - Joni Santai [Live Performance]    13958.0   \n",
       "3   metrotvnews            Realitas - Langkah Banding Kartel Motor      872.0   \n",
       "4   metrotvnews      Target Operasi - Calo TKI Ilegal Timur Tengah   100847.0   \n",
       "\n",
       "   likeCount  dislikeCount  commentCount  \\\n",
       "0      903.0          23.0          71.0   \n",
       "1       96.0           2.0           5.0   \n",
       "2       80.0           5.0           2.0   \n",
       "3        7.0           0.0           5.0   \n",
       "4      316.0          39.0         315.0   \n",
       "\n",
       "                                     thumbnail  \n",
       "0  http://img.youtube.com/vi/ZmlZpOLRMhE/0.jpg  \n",
       "1  http://img.youtube.com/vi/S2DliNcO7LA/0.jpg  \n",
       "2  http://img.youtube.com/vi/Li3CZ7t03TA/0.jpg  \n",
       "3  http://img.youtube.com/vi/OojiP1ph-eQ/0.jpg  \n",
       "4  http://img.youtube.com/vi/3Kx9YMT_ZIE/0.jpg  "
      ]
     },
     "execution_count": 3,
     "metadata": {},
     "output_type": "execute_result"
    }
   ],
   "source": [
    "df.head()"
   ]
  },
  {
   "cell_type": "code",
   "execution_count": 13,
   "metadata": {},
   "outputs": [
    {
     "name": "stdout",
     "output_type": "stream",
     "text": [
      "      channelTitle                                         videoTitle  \\\n",
      "0     Najwa Shihab  Di Balik Layar Hiduplah Hari Ini - Dialog Dini...   \n",
      "6549  Najwa Shihab  Panggung Srimulat (Part 7): Dari Reuni ke Laya...   \n",
      "6550  Najwa Shihab  Panggung Srimulat (Part 6): Sumber Inspirasi G...   \n",
      "\n",
      "      viewCount  likeCount  dislikeCount  commentCount  \\\n",
      "0       28751.0      903.0          23.0          71.0   \n",
      "6549   145155.0     1928.0          21.0         216.0   \n",
      "6550   197433.0     1771.0          43.0         105.0   \n",
      "\n",
      "                                        thumbnail  \n",
      "0     http://img.youtube.com/vi/ZmlZpOLRMhE/0.jpg  \n",
      "6549  http://img.youtube.com/vi/ii-E6OwxzQA/0.jpg  \n",
      "6550  http://img.youtube.com/vi/xH5yuVcidW0/0.jpg  \n"
     ]
    }
   ],
   "source": [
    "df_narasi = df[df['channelTitle'].isin(['Najwa Shihab', 'Narasi Channel', 'Nara-Z'])]\n",
    "print(df_narasi.head(3))"
   ]
  },
  {
   "cell_type": "code",
   "execution_count": 32,
   "metadata": {},
   "outputs": [],
   "source": [
    "thumbnails = df_narasi.thumbnail.values.tolist()"
   ]
  },
  {
   "cell_type": "code",
   "execution_count": 34,
   "metadata": {},
   "outputs": [
    {
     "data": {
      "text/plain": [
       "['http://img.youtube.com/vi/ZmlZpOLRMhE/0.jpg',\n",
       " 'http://img.youtube.com/vi/ii-E6OwxzQA/0.jpg',\n",
       " 'http://img.youtube.com/vi/xH5yuVcidW0/0.jpg']"
      ]
     },
     "execution_count": 34,
     "metadata": {},
     "output_type": "execute_result"
    }
   ],
   "source": [
    "thumbnails[0:3]"
   ]
  },
  {
   "cell_type": "code",
   "execution_count": 17,
   "metadata": {},
   "outputs": [],
   "source": [
    "import cv2\n",
    "import math\n",
    "import os.path\n",
    "import numpy as np"
   ]
  },
  {
   "cell_type": "code",
   "execution_count": 18,
   "metadata": {},
   "outputs": [],
   "source": [
    "import collections\n",
    "from itertools import chain\n",
    "import urllib.request as request\n",
    "import pickle \n",
    "\n",
    "import scipy.signal as signal\n",
    "import scipy.ndimage.filters as filters\n",
    "import scipy.special as special\n",
    "import scipy.optimize as optimize\n",
    "\n",
    "import matplotlib.pyplot as plt\n",
    "%matplotlib inline\n",
    "\n",
    "import skimage.io\n",
    "import skimage.transform"
   ]
  },
  {
   "cell_type": "code",
   "execution_count": 19,
   "metadata": {},
   "outputs": [],
   "source": [
    "import os\n",
    "os.chdir('/Users/anggapradiktas/Documents/libsvm/python')\n",
    "import svm\n",
    "import svmutil"
   ]
  },
  {
   "cell_type": "code",
   "execution_count": 20,
   "metadata": {},
   "outputs": [],
   "source": [
    "def normalize_kernel(kernel):\n",
    "    return kernel / np.sum(kernel)\n",
    "\n",
    "def gaussian_kernel2d(n, sigma):\n",
    "    Y, X = np.indices((n, n)) - int(n/2)\n",
    "    gaussian_kernel = 1 / (2 * np.pi * sigma ** 2) * np.exp(-(X ** 2 + Y ** 2) / (2 * sigma ** 2)) \n",
    "    return normalize_kernel(gaussian_kernel)\n",
    "\n",
    "def local_mean(image, kernel):\n",
    "    return signal.convolve2d(image, kernel, 'same')"
   ]
  },
  {
   "cell_type": "code",
   "execution_count": 21,
   "metadata": {},
   "outputs": [],
   "source": [
    "def local_deviation(image, local_mean, kernel):\n",
    "    \"Vectorized approximation of local deviation\"\n",
    "    sigma = image ** 2\n",
    "    sigma = signal.convolve2d(sigma, kernel, 'same')\n",
    "    return np.sqrt(np.abs(local_mean ** 2 - sigma))"
   ]
  },
  {
   "cell_type": "code",
   "execution_count": 22,
   "metadata": {},
   "outputs": [],
   "source": [
    "def calculate_mscn_coefficients(image, kernel_size=6, sigma=7/6):\n",
    "    C = 1/255\n",
    "    kernel = gaussian_kernel2d(kernel_size, sigma=sigma)\n",
    "    local_mean = signal.convolve2d(image, kernel, 'same')\n",
    "    local_var = local_deviation(image, local_mean, kernel)\n",
    "    \n",
    "    return (image - local_mean) / (local_var + C)"
   ]
  },
  {
   "cell_type": "code",
   "execution_count": 23,
   "metadata": {},
   "outputs": [],
   "source": [
    "def generalized_gaussian_dist(x, alpha, sigma):\n",
    "    beta = sigma * np.sqrt(special.gamma(1 / alpha) / special.gamma(3 / alpha))\n",
    "    \n",
    "    coefficient = alpha / (2 * beta() * special.gamma(1 / alpha))\n",
    "    return coefficient * np.exp(-(np.abs(x) / beta) ** alpha)"
   ]
  },
  {
   "cell_type": "code",
   "execution_count": 24,
   "metadata": {},
   "outputs": [],
   "source": [
    "def calculate_pair_product_coefficients(mscn_coefficients):\n",
    "    return collections.OrderedDict({\n",
    "        'mscn': mscn_coefficients,\n",
    "        'horizontal': mscn_coefficients[:, :-1] * mscn_coefficients[:, 1:],\n",
    "        'vertical': mscn_coefficients[:-1, :] * mscn_coefficients[1:, :],\n",
    "        'main_diagonal': mscn_coefficients[:-1, :-1] * mscn_coefficients[1:, 1:],\n",
    "        'secondary_diagonal': mscn_coefficients[1:, :-1] * mscn_coefficients[:-1, 1:]\n",
    "    })"
   ]
  },
  {
   "cell_type": "code",
   "execution_count": 25,
   "metadata": {},
   "outputs": [],
   "source": [
    "def asymmetric_generalized_gaussian(x, nu, sigma_l, sigma_r):\n",
    "    def beta(sigma):\n",
    "        return sigma * np.sqrt(special.gamma(1 / nu) / special.gamma(3 / nu))\n",
    "    \n",
    "    coefficient = nu / ((beta(sigma_l) + beta(sigma_r)) * special.gamma(1 / nu))\n",
    "    f = lambda x, sigma: coefficient * np.exp(-(x / beta(sigma)) ** nu)\n",
    "        \n",
    "    return np.where(x < 0, f(-x, sigma_l), f(x, sigma_r))"
   ]
  },
  {
   "cell_type": "code",
   "execution_count": 26,
   "metadata": {},
   "outputs": [],
   "source": [
    "def asymmetric_generalized_gaussian_fit(x):\n",
    "    def estimate_phi(alpha):\n",
    "        numerator = special.gamma(2 / alpha) ** 2\n",
    "        denominator = special.gamma(1 / alpha) * special.gamma(3 / alpha)\n",
    "        return numerator / denominator\n",
    "\n",
    "    def estimate_r_hat(x):\n",
    "        size = np.prod(x.shape)\n",
    "        return (np.sum(np.abs(x)) / size) ** 2 / (np.sum(x ** 2) / size)\n",
    "\n",
    "    def estimate_R_hat(r_hat, gamma):\n",
    "        numerator = (gamma ** 3 + 1) * (gamma + 1)\n",
    "        denominator = (gamma ** 2 + 1) ** 2\n",
    "        return r_hat * numerator / denominator\n",
    "\n",
    "    def mean_squares_sum(x, filter = lambda z: z == z):\n",
    "        filtered_values = x[filter(x)]\n",
    "        squares_sum = np.sum(filtered_values ** 2)\n",
    "        return squares_sum / ((filtered_values.shape))\n",
    "\n",
    "    def estimate_gamma(x):\n",
    "        left_squares = mean_squares_sum(x, lambda z: z < 0)\n",
    "        right_squares = mean_squares_sum(x, lambda z: z >= 0)\n",
    "\n",
    "        return np.sqrt(left_squares) / np.sqrt(right_squares)\n",
    "\n",
    "    def estimate_alpha(x):\n",
    "        r_hat = estimate_r_hat(x)\n",
    "        gamma = estimate_gamma(x)\n",
    "        R_hat = estimate_R_hat(r_hat, gamma)\n",
    "\n",
    "        solution = optimize.root(lambda z: estimate_phi(z) - R_hat, [0.2]).x\n",
    "\n",
    "        return solution[0]\n",
    "\n",
    "    def estimate_sigma(x, alpha, filter = lambda z: z < 0):\n",
    "        return np.sqrt(mean_squares_sum(x, filter))\n",
    "    \n",
    "    def estimate_mean(alpha, sigma_l, sigma_r):\n",
    "        return (sigma_r - sigma_l) * constant * (special.gamma(2 / alpha) / special.gamma(1 / alpha))\n",
    "    \n",
    "    alpha = estimate_alpha(x)\n",
    "    sigma_l = estimate_sigma(x, alpha, lambda z: z < 0)\n",
    "    sigma_r = estimate_sigma(x, alpha, lambda z: z >= 0)\n",
    "    \n",
    "    constant = np.sqrt(special.gamma(1 / alpha) / special.gamma(3 / alpha))\n",
    "    mean = estimate_mean(alpha, sigma_l, sigma_r)\n",
    "    \n",
    "    return alpha, mean, sigma_l, sigma_r"
   ]
  },
  {
   "cell_type": "code",
   "execution_count": 27,
   "metadata": {},
   "outputs": [],
   "source": [
    "def calculate_brisque_features(image, kernel_size=7, sigma=7/6):\n",
    "    def calculate_features(coefficients_name, coefficients, accum=np.array([])):\n",
    "        alpha, mean, sigma_l, sigma_r = asymmetric_generalized_gaussian_fit(coefficients)\n",
    "\n",
    "        if coefficients_name == 'mscn':\n",
    "            var = (sigma_l ** 2 + sigma_r ** 2) / 2\n",
    "            return [alpha, var]\n",
    "        \n",
    "        return [alpha, mean, sigma_l ** 2, sigma_r ** 2]\n",
    "    \n",
    "    mscn_coefficients = calculate_mscn_coefficients(image, kernel_size, sigma)\n",
    "    coefficients = calculate_pair_product_coefficients(mscn_coefficients)\n",
    "    \n",
    "    features = [calculate_features(name, coeff) for name, coeff in coefficients.items()]\n",
    "    flatten_features = list(chain.from_iterable(features))\n",
    "    return np.array(flatten_features)"
   ]
  },
  {
   "cell_type": "code",
   "execution_count": 28,
   "metadata": {},
   "outputs": [],
   "source": [
    "def load_image(url):\n",
    "    image_stream = request.urlopen(url)\n",
    "    return skimage.io.imread(image_stream, plugin='pil')\n",
    "\n",
    "def plot_histogram(x, label):\n",
    "    n, bins = np.histogram(x.ravel(), bins=50)\n",
    "    n = n / np.max(n)\n",
    "    plt.plot(bins[:-1], n, label=label, marker='o')"
   ]
  },
  {
   "cell_type": "code",
   "execution_count": 35,
   "metadata": {},
   "outputs": [],
   "source": [
    "data = []\n",
    "for u in thumbnails:\n",
    "    image = load_image(u)\n",
    "    data.append(image)"
   ]
  },
  {
   "cell_type": "code",
   "execution_count": 36,
   "metadata": {},
   "outputs": [],
   "source": [
    "gray_image = []\n",
    "for d in data:\n",
    "    convert_to_gray = skimage.color.rgb2gray(d)\n",
    "    gray_image.append(convert_to_gray)"
   ]
  },
  {
   "cell_type": "code",
   "execution_count": 37,
   "metadata": {},
   "outputs": [],
   "source": [
    "mscn_coefficients = []\n",
    "for g in gray_image:\n",
    "    mscn_holder = calculate_mscn_coefficients(g, 7, 7/6)\n",
    "    mscn_coefficients.append(mscn_holder)"
   ]
  },
  {
   "cell_type": "code",
   "execution_count": 42,
   "metadata": {},
   "outputs": [],
   "source": [
    "coefficients = []\n",
    "for m in mscn_coefficients:\n",
    "    coef_holder = calculate_pair_product_coefficients(m)\n",
    "    coefficients.append(coef_holder)"
   ]
  },
  {
   "cell_type": "code",
   "execution_count": 46,
   "metadata": {},
   "outputs": [],
   "source": [
    "brisque_features = []\n",
    "for g in gray_image:\n",
    "    brisque_holder = calculate_brisque_features(g, kernel_size=7, sigma=7/6)\n",
    "    brisque_features.append(brisque_holder)"
   ]
  },
  {
   "cell_type": "code",
   "execution_count": 47,
   "metadata": {},
   "outputs": [],
   "source": [
    "downscaled_image = []\n",
    "for g in gray_image:\n",
    "    down_holder = cv2.resize(g, None, fx=1/2, fy=1/2, interpolation = cv2.INTER_CUBIC)\n",
    "    downscaled_image.append(down_holder)"
   ]
  },
  {
   "cell_type": "code",
   "execution_count": 48,
   "metadata": {},
   "outputs": [],
   "source": [
    "downscale_brisque_features = []\n",
    "for down in downscaled_image:\n",
    "    features_holder = calculate_brisque_features(down, kernel_size=7, sigma=7/6)\n",
    "    downscale_brisque_features.append(features_holder)"
   ]
  },
  {
   "cell_type": "code",
   "execution_count": 49,
   "metadata": {},
   "outputs": [],
   "source": [
    "brisque_features_1 = []\n",
    "for bf, dbf in zip(brisque_features, downscale_brisque_features):\n",
    "    brisque_features_holder = np.concatenate((bf, dbf))\n",
    "    brisque_features_1.append(brisque_features_holder)"
   ]
  },
  {
   "cell_type": "code",
   "execution_count": 50,
   "metadata": {},
   "outputs": [],
   "source": [
    "def scale_features(features):\n",
    "    with open('normalize.pickle', 'rb') as handle:\n",
    "        scale_params = pickle.load(handle)\n",
    "    \n",
    "    min_ = np.array(scale_params['min_'])\n",
    "    max_ = np.array(scale_params['max_'])\n",
    "    \n",
    "    return -1 + (2.0 / (max_ - min_) * (features - min_))\n",
    "\n",
    "def calculate_image_quality_score(brisque_features):\n",
    "    model = svmutil.svm_load_model('brisque_svm.txt')\n",
    "    scaled_brisque_features = scale_features(brisque_features)\n",
    "    \n",
    "    x, idx = svmutil.gen_svm_nodearray(\n",
    "        scaled_brisque_features,\n",
    "        isKernel=(model.param.kernel_type == svmutil.PRECOMPUTED))\n",
    "    \n",
    "    nr_classifier = 1\n",
    "    prob_estimates = (svmutil.c_double * nr_classifier)()\n",
    "    \n",
    "    return svmutil.libsvm.svm_predict_probability(model, x, prob_estimates)"
   ]
  },
  {
   "cell_type": "code",
   "execution_count": 51,
   "metadata": {},
   "outputs": [],
   "source": [
    "score = []\n",
    "\n",
    "for bf1 in brisque_features_1:\n",
    "    score_holder = calculate_image_quality_score(bf1)\n",
    "    score.append(score_holder)"
   ]
  },
  {
   "cell_type": "code",
   "execution_count": 56,
   "metadata": {},
   "outputs": [
    {
     "data": {
      "text/html": [
       "<div>\n",
       "<style scoped>\n",
       "    .dataframe tbody tr th:only-of-type {\n",
       "        vertical-align: middle;\n",
       "    }\n",
       "\n",
       "    .dataframe tbody tr th {\n",
       "        vertical-align: top;\n",
       "    }\n",
       "\n",
       "    .dataframe thead th {\n",
       "        text-align: right;\n",
       "    }\n",
       "</style>\n",
       "<table border=\"1\" class=\"dataframe\">\n",
       "  <thead>\n",
       "    <tr style=\"text-align: right;\">\n",
       "      <th></th>\n",
       "      <th>score</th>\n",
       "    </tr>\n",
       "  </thead>\n",
       "  <tbody>\n",
       "    <tr>\n",
       "      <th>0</th>\n",
       "      <td>54.985461</td>\n",
       "    </tr>\n",
       "    <tr>\n",
       "      <th>1</th>\n",
       "      <td>55.344489</td>\n",
       "    </tr>\n",
       "    <tr>\n",
       "      <th>2</th>\n",
       "      <td>37.360060</td>\n",
       "    </tr>\n",
       "    <tr>\n",
       "      <th>3</th>\n",
       "      <td>58.231826</td>\n",
       "    </tr>\n",
       "    <tr>\n",
       "      <th>4</th>\n",
       "      <td>55.575654</td>\n",
       "    </tr>\n",
       "  </tbody>\n",
       "</table>\n",
       "</div>"
      ],
      "text/plain": [
       "       score\n",
       "0  54.985461\n",
       "1  55.344489\n",
       "2  37.360060\n",
       "3  58.231826\n",
       "4  55.575654"
      ]
     },
     "execution_count": 56,
     "metadata": {},
     "output_type": "execute_result"
    }
   ],
   "source": [
    "df_score = pd.DataFrame({'score':score})"
   ]
  },
  {
   "cell_type": "code",
   "execution_count": 66,
   "metadata": {},
   "outputs": [],
   "source": [
    "df_narasi = df_narasi.reset_index(drop=True)"
   ]
  },
  {
   "cell_type": "code",
   "execution_count": 111,
   "metadata": {},
   "outputs": [],
   "source": [
    "df_combine = pd.concat([df_narasi, df_score], axis=1)"
   ]
  },
  {
   "cell_type": "code",
   "execution_count": 98,
   "metadata": {},
   "outputs": [],
   "source": [
    "#df_combine.to_csv('df_score_views.csv')"
   ]
  },
  {
   "cell_type": "code",
   "execution_count": 99,
   "metadata": {},
   "outputs": [
    {
     "data": {
      "text/plain": [
       "'/Users/anggapradiktas/Documents/libsvm/python'"
      ]
     },
     "execution_count": 99,
     "metadata": {},
     "output_type": "execute_result"
    }
   ],
   "source": [
    "pwd"
   ]
  },
  {
   "cell_type": "code",
   "execution_count": 70,
   "metadata": {},
   "outputs": [
    {
     "data": {
      "text/html": [
       "<div>\n",
       "<style scoped>\n",
       "    .dataframe tbody tr th:only-of-type {\n",
       "        vertical-align: middle;\n",
       "    }\n",
       "\n",
       "    .dataframe tbody tr th {\n",
       "        vertical-align: top;\n",
       "    }\n",
       "\n",
       "    .dataframe thead th {\n",
       "        text-align: right;\n",
       "    }\n",
       "</style>\n",
       "<table border=\"1\" class=\"dataframe\">\n",
       "  <thead>\n",
       "    <tr style=\"text-align: right;\">\n",
       "      <th></th>\n",
       "      <th>channelTitle</th>\n",
       "      <th>videoTitle</th>\n",
       "      <th>viewCount</th>\n",
       "      <th>likeCount</th>\n",
       "      <th>dislikeCount</th>\n",
       "      <th>commentCount</th>\n",
       "      <th>thumbnail</th>\n",
       "      <th>score</th>\n",
       "    </tr>\n",
       "  </thead>\n",
       "  <tbody>\n",
       "    <tr>\n",
       "      <th>0</th>\n",
       "      <td>Najwa Shihab</td>\n",
       "      <td>Di Balik Layar Hiduplah Hari Ini - Dialog Dini...</td>\n",
       "      <td>28751.0</td>\n",
       "      <td>903.0</td>\n",
       "      <td>23.0</td>\n",
       "      <td>71.0</td>\n",
       "      <td>http://img.youtube.com/vi/ZmlZpOLRMhE/0.jpg</td>\n",
       "      <td>54.985461</td>\n",
       "    </tr>\n",
       "    <tr>\n",
       "      <th>1</th>\n",
       "      <td>Najwa Shihab</td>\n",
       "      <td>Panggung Srimulat (Part 7): Dari Reuni ke Laya...</td>\n",
       "      <td>145155.0</td>\n",
       "      <td>1928.0</td>\n",
       "      <td>21.0</td>\n",
       "      <td>216.0</td>\n",
       "      <td>http://img.youtube.com/vi/ii-E6OwxzQA/0.jpg</td>\n",
       "      <td>55.344489</td>\n",
       "    </tr>\n",
       "    <tr>\n",
       "      <th>2</th>\n",
       "      <td>Najwa Shihab</td>\n",
       "      <td>Panggung Srimulat (Part 6): Sumber Inspirasi G...</td>\n",
       "      <td>197433.0</td>\n",
       "      <td>1771.0</td>\n",
       "      <td>43.0</td>\n",
       "      <td>105.0</td>\n",
       "      <td>http://img.youtube.com/vi/xH5yuVcidW0/0.jpg</td>\n",
       "      <td>37.360060</td>\n",
       "    </tr>\n",
       "    <tr>\n",
       "      <th>3</th>\n",
       "      <td>Najwa Shihab</td>\n",
       "      <td>Panggung Srimulat (Part 5): Srimulatisme; Genr...</td>\n",
       "      <td>156493.0</td>\n",
       "      <td>1491.0</td>\n",
       "      <td>36.0</td>\n",
       "      <td>112.0</td>\n",
       "      <td>http://img.youtube.com/vi/Xe4hBnAwmDI/0.jpg</td>\n",
       "      <td>58.231826</td>\n",
       "    </tr>\n",
       "    <tr>\n",
       "      <th>4</th>\n",
       "      <td>Najwa Shihab</td>\n",
       "      <td>Panggung Srimulat (Part 4): Srimulat, Gudangny...</td>\n",
       "      <td>182744.0</td>\n",
       "      <td>1645.0</td>\n",
       "      <td>43.0</td>\n",
       "      <td>132.0</td>\n",
       "      <td>http://img.youtube.com/vi/i8u0yxb2GZs/0.jpg</td>\n",
       "      <td>55.575654</td>\n",
       "    </tr>\n",
       "  </tbody>\n",
       "</table>\n",
       "</div>"
      ],
      "text/plain": [
       "   channelTitle                                         videoTitle  viewCount  \\\n",
       "0  Najwa Shihab  Di Balik Layar Hiduplah Hari Ini - Dialog Dini...    28751.0   \n",
       "1  Najwa Shihab  Panggung Srimulat (Part 7): Dari Reuni ke Laya...   145155.0   \n",
       "2  Najwa Shihab  Panggung Srimulat (Part 6): Sumber Inspirasi G...   197433.0   \n",
       "3  Najwa Shihab  Panggung Srimulat (Part 5): Srimulatisme; Genr...   156493.0   \n",
       "4  Najwa Shihab  Panggung Srimulat (Part 4): Srimulat, Gudangny...   182744.0   \n",
       "\n",
       "   likeCount  dislikeCount  commentCount  \\\n",
       "0      903.0          23.0          71.0   \n",
       "1     1928.0          21.0         216.0   \n",
       "2     1771.0          43.0         105.0   \n",
       "3     1491.0          36.0         112.0   \n",
       "4     1645.0          43.0         132.0   \n",
       "\n",
       "                                     thumbnail      score  \n",
       "0  http://img.youtube.com/vi/ZmlZpOLRMhE/0.jpg  54.985461  \n",
       "1  http://img.youtube.com/vi/ii-E6OwxzQA/0.jpg  55.344489  \n",
       "2  http://img.youtube.com/vi/xH5yuVcidW0/0.jpg  37.360060  \n",
       "3  http://img.youtube.com/vi/Xe4hBnAwmDI/0.jpg  58.231826  \n",
       "4  http://img.youtube.com/vi/i8u0yxb2GZs/0.jpg  55.575654  "
      ]
     },
     "execution_count": 70,
     "metadata": {},
     "output_type": "execute_result"
    }
   ],
   "source": [
    "df_combine.head()"
   ]
  },
  {
   "cell_type": "code",
   "execution_count": 74,
   "metadata": {},
   "outputs": [
    {
     "data": {
      "image/png": "[encoded data removed]",
      "text/plain": [
       "<Figure size 900x900 with 30 Axes>"
      ]
     },
     "metadata": {},
     "output_type": "display_data"
    }
   ],
   "source": [
    "import seaborn as sns; sns.set(style=\"ticks\", color_codes=True)\n",
    "g = sns.pairplot(df_combine)"
   ]
  },
  {
   "cell_type": "code",
   "execution_count": 79,
   "metadata": {},
   "outputs": [
    {
     "data": {
      "text/html": [
       "<div>\n",
       "<style scoped>\n",
       "    .dataframe tbody tr th:only-of-type {\n",
       "        vertical-align: middle;\n",
       "    }\n",
       "\n",
       "    .dataframe tbody tr th {\n",
       "        vertical-align: top;\n",
       "    }\n",
       "\n",
       "    .dataframe thead th {\n",
       "        text-align: right;\n",
       "    }\n",
       "</style>\n",
       "<table border=\"1\" class=\"dataframe\">\n",
       "  <thead>\n",
       "    <tr style=\"text-align: right;\">\n",
       "      <th></th>\n",
       "      <th>channelTitle</th>\n",
       "      <th>videoTitle</th>\n",
       "      <th>viewCount</th>\n",
       "      <th>likeCount</th>\n",
       "      <th>dislikeCount</th>\n",
       "      <th>commentCount</th>\n",
       "      <th>thumbnail</th>\n",
       "      <th>score</th>\n",
       "    </tr>\n",
       "  </thead>\n",
       "  <tbody>\n",
       "    <tr>\n",
       "      <th>818</th>\n",
       "      <td>Najwa Shihab</td>\n",
       "      <td>Mata Najwa Part 1 - Bara Jelang 2019: Kesaksia...</td>\n",
       "      <td>499611.0</td>\n",
       "      <td>3510.0</td>\n",
       "      <td>420.0</td>\n",
       "      <td>2821.0</td>\n",
       "      <td>http://img.youtube.com/vi/FA450ud17SU/0.jpg</td>\n",
       "      <td>15.073791</td>\n",
       "    </tr>\n",
       "    <tr>\n",
       "      <th>1140</th>\n",
       "      <td>Najwa Shihab</td>\n",
       "      <td>Munir, Keadilan yang Belum Tuntas</td>\n",
       "      <td>33665.0</td>\n",
       "      <td>1054.0</td>\n",
       "      <td>8.0</td>\n",
       "      <td>93.0</td>\n",
       "      <td>http://img.youtube.com/vi/esztNGHZSpM/0.jpg</td>\n",
       "      <td>19.415472</td>\n",
       "    </tr>\n",
       "    <tr>\n",
       "      <th>1043</th>\n",
       "      <td>Najwa Shihab</td>\n",
       "      <td>Part 5 - Kartu Kuning Jokowi: Kecemasan Kembal...</td>\n",
       "      <td>617130.0</td>\n",
       "      <td>2678.0</td>\n",
       "      <td>173.0</td>\n",
       "      <td>1265.0</td>\n",
       "      <td>http://img.youtube.com/vi/gr7stqYBNkg/0.jpg</td>\n",
       "      <td>21.750977</td>\n",
       "    </tr>\n",
       "    <tr>\n",
       "      <th>290</th>\n",
       "      <td>Narasi Channel</td>\n",
       "      <td>Pemburu Peristiwa | Narasi People</td>\n",
       "      <td>12410.0</td>\n",
       "      <td>104.0</td>\n",
       "      <td>5.0</td>\n",
       "      <td>5.0</td>\n",
       "      <td>http://img.youtube.com/vi/AoezmZA_WMI/0.jpg</td>\n",
       "      <td>22.777777</td>\n",
       "    </tr>\n",
       "    <tr>\n",
       "      <th>1372</th>\n",
       "      <td>Najwa Shihab</td>\n",
       "      <td>TAN MALAKA: Kisah Bapak Republik</td>\n",
       "      <td>6325.0</td>\n",
       "      <td>95.0</td>\n",
       "      <td>0.0</td>\n",
       "      <td>1.0</td>\n",
       "      <td>http://img.youtube.com/vi/hlloo2QDQvg/0.jpg</td>\n",
       "      <td>23.367693</td>\n",
       "    </tr>\n",
       "  </tbody>\n",
       "</table>\n",
       "</div>"
      ],
      "text/plain": [
       "        channelTitle                                         videoTitle  \\\n",
       "818     Najwa Shihab  Mata Najwa Part 1 - Bara Jelang 2019: Kesaksia...   \n",
       "1140    Najwa Shihab                  Munir, Keadilan yang Belum Tuntas   \n",
       "1043    Najwa Shihab  Part 5 - Kartu Kuning Jokowi: Kecemasan Kembal...   \n",
       "290   Narasi Channel                  Pemburu Peristiwa | Narasi People   \n",
       "1372    Najwa Shihab                   TAN MALAKA: Kisah Bapak Republik   \n",
       "\n",
       "      viewCount  likeCount  dislikeCount  commentCount  \\\n",
       "818    499611.0     3510.0         420.0        2821.0   \n",
       "1140    33665.0     1054.0           8.0          93.0   \n",
       "1043   617130.0     2678.0         173.0        1265.0   \n",
       "290     12410.0      104.0           5.0           5.0   \n",
       "1372     6325.0       95.0           0.0           1.0   \n",
       "\n",
       "                                        thumbnail      score  \n",
       "818   http://img.youtube.com/vi/FA450ud17SU/0.jpg  15.073791  \n",
       "1140  http://img.youtube.com/vi/esztNGHZSpM/0.jpg  19.415472  \n",
       "1043  http://img.youtube.com/vi/gr7stqYBNkg/0.jpg  21.750977  \n",
       "290   http://img.youtube.com/vi/AoezmZA_WMI/0.jpg  22.777777  \n",
       "1372  http://img.youtube.com/vi/hlloo2QDQvg/0.jpg  23.367693  "
      ]
     },
     "execution_count": 79,
     "metadata": {},
     "output_type": "execute_result"
    }
   ],
   "source": [
    "df_combine.sort_values('score').head()"
   ]
  },
  {
   "cell_type": "code",
   "execution_count": 97,
   "metadata": {},
   "outputs": [
    {
     "data": {
      "text/html": [
       "<div>\n",
       "<style scoped>\n",
       "    .dataframe tbody tr th:only-of-type {\n",
       "        vertical-align: middle;\n",
       "    }\n",
       "\n",
       "    .dataframe tbody tr th {\n",
       "        vertical-align: top;\n",
       "    }\n",
       "\n",
       "    .dataframe thead th {\n",
       "        text-align: right;\n",
       "    }\n",
       "</style>\n",
       "<table border=\"1\" class=\"dataframe\">\n",
       "  <thead>\n",
       "    <tr style=\"text-align: right;\">\n",
       "      <th></th>\n",
       "      <th>channelTitle</th>\n",
       "      <th>videoTitle</th>\n",
       "      <th>viewCount</th>\n",
       "      <th>likeCount</th>\n",
       "      <th>dislikeCount</th>\n",
       "      <th>commentCount</th>\n",
       "      <th>thumbnail</th>\n",
       "      <th>score</th>\n",
       "    </tr>\n",
       "  </thead>\n",
       "  <tbody>\n",
       "    <tr>\n",
       "      <th>1236</th>\n",
       "      <td>Najwa Shihab</td>\n",
       "      <td>Suara Penentu: Beda Jokowi dan Prabowo Sikapi ...</td>\n",
       "      <td>4020676.0</td>\n",
       "      <td>38993.0</td>\n",
       "      <td>3740.0</td>\n",
       "      <td>10719.0</td>\n",
       "      <td>http://img.youtube.com/vi/aS5sX-MywbA/0.jpg</td>\n",
       "      <td>62.925466</td>\n",
       "    </tr>\n",
       "    <tr>\n",
       "      <th>450</th>\n",
       "      <td>Najwa Shihab</td>\n",
       "      <td>PSSI Bisa Apa: Buka-Bukaan Pengaturan Skor Bol...</td>\n",
       "      <td>3528503.0</td>\n",
       "      <td>38665.0</td>\n",
       "      <td>1375.0</td>\n",
       "      <td>7452.0</td>\n",
       "      <td>http://img.youtube.com/vi/tRu8FhUnlDY/0.jpg</td>\n",
       "      <td>50.034018</td>\n",
       "    </tr>\n",
       "    <tr>\n",
       "      <th>1349</th>\n",
       "      <td>Najwa Shihab</td>\n",
       "      <td>Berburu Suara Penentu: Yusuf Mansur Soal Keisl...</td>\n",
       "      <td>3013454.0</td>\n",
       "      <td>39226.0</td>\n",
       "      <td>5342.0</td>\n",
       "      <td>13915.0</td>\n",
       "      <td>http://img.youtube.com/vi/21gSbginMU0/0.jpg</td>\n",
       "      <td>50.879350</td>\n",
       "    </tr>\n",
       "  </tbody>\n",
       "</table>\n",
       "</div>"
      ],
      "text/plain": [
       "      channelTitle                                         videoTitle  \\\n",
       "1236  Najwa Shihab  Suara Penentu: Beda Jokowi dan Prabowo Sikapi ...   \n",
       "450   Najwa Shihab  PSSI Bisa Apa: Buka-Bukaan Pengaturan Skor Bol...   \n",
       "1349  Najwa Shihab  Berburu Suara Penentu: Yusuf Mansur Soal Keisl...   \n",
       "\n",
       "      viewCount  likeCount  dislikeCount  commentCount  \\\n",
       "1236  4020676.0    38993.0        3740.0       10719.0   \n",
       "450   3528503.0    38665.0        1375.0        7452.0   \n",
       "1349  3013454.0    39226.0        5342.0       13915.0   \n",
       "\n",
       "                                        thumbnail      score  \n",
       "1236  http://img.youtube.com/vi/aS5sX-MywbA/0.jpg  62.925466  \n",
       "450   http://img.youtube.com/vi/tRu8FhUnlDY/0.jpg  50.034018  \n",
       "1349  http://img.youtube.com/vi/21gSbginMU0/0.jpg  50.879350  "
      ]
     },
     "execution_count": 97,
     "metadata": {},
     "output_type": "execute_result"
    }
   ],
   "source": [
    "df_combine.loc[(df_combine['score'] >= 50) & (df_combine['viewCount'] >= 500000)].sort_values('viewCount', ascending=False).head(3)"
   ]
  },
  {
   "cell_type": "code",
   "execution_count": 117,
   "metadata": {},
   "outputs": [],
   "source": [
    "pd.set_option('precision', 0)"
   ]
  },
  {
   "cell_type": "code",
   "execution_count": 118,
   "metadata": {},
   "outputs": [
    {
     "data": {
      "text/html": [
       "<div>\n",
       "<style scoped>\n",
       "    .dataframe tbody tr th:only-of-type {\n",
       "        vertical-align: middle;\n",
       "    }\n",
       "\n",
       "    .dataframe tbody tr th {\n",
       "        vertical-align: top;\n",
       "    }\n",
       "\n",
       "    .dataframe thead th {\n",
       "        text-align: right;\n",
       "    }\n",
       "</style>\n",
       "<table border=\"1\" class=\"dataframe\">\n",
       "  <thead>\n",
       "    <tr style=\"text-align: right;\">\n",
       "      <th></th>\n",
       "      <th>channelTitle</th>\n",
       "      <th>videoTitle</th>\n",
       "      <th>viewCount</th>\n",
       "      <th>likeCount</th>\n",
       "      <th>dislikeCount</th>\n",
       "      <th>commentCount</th>\n",
       "      <th>thumbnail</th>\n",
       "      <th>score</th>\n",
       "    </tr>\n",
       "  </thead>\n",
       "  <tbody>\n",
       "    <tr>\n",
       "      <th>0</th>\n",
       "      <td>Najwa Shihab</td>\n",
       "      <td>Di Balik Layar Hiduplah Hari Ini - Dialog Dini...</td>\n",
       "      <td>28751</td>\n",
       "      <td>903</td>\n",
       "      <td>23</td>\n",
       "      <td>71</td>\n",
       "      <td>http://img.youtube.com/vi/ZmlZpOLRMhE/0.jpg</td>\n",
       "      <td>55</td>\n",
       "    </tr>\n",
       "    <tr>\n",
       "      <th>1</th>\n",
       "      <td>Najwa Shihab</td>\n",
       "      <td>Panggung Srimulat (Part 7): Dari Reuni ke Laya...</td>\n",
       "      <td>145155</td>\n",
       "      <td>1928</td>\n",
       "      <td>21</td>\n",
       "      <td>216</td>\n",
       "      <td>http://img.youtube.com/vi/ii-E6OwxzQA/0.jpg</td>\n",
       "      <td>55</td>\n",
       "    </tr>\n",
       "  </tbody>\n",
       "</table>\n",
       "</div>"
      ],
      "text/plain": [
       "   channelTitle                                         videoTitle  viewCount  \\\n",
       "0  Najwa Shihab  Di Balik Layar Hiduplah Hari Ini - Dialog Dini...      28751   \n",
       "1  Najwa Shihab  Panggung Srimulat (Part 7): Dari Reuni ke Laya...     145155   \n",
       "\n",
       "   likeCount  dislikeCount  commentCount  \\\n",
       "0        903            23            71   \n",
       "1       1928            21           216   \n",
       "\n",
       "                                     thumbnail  score  \n",
       "0  http://img.youtube.com/vi/ZmlZpOLRMhE/0.jpg     55  \n",
       "1  http://img.youtube.com/vi/ii-E6OwxzQA/0.jpg     55  "
      ]
     },
     "execution_count": 118,
     "metadata": {},
     "output_type": "execute_result"
    }
   ],
   "source": [
    "df_combine.head(2)"
   ]
  },
  {
   "cell_type": "code",
   "execution_count": 119,
   "metadata": {},
   "outputs": [],
   "source": [
    "from sklearn import svm\n",
    "clf = svm.SVC(gamma='scale')"
   ]
  },
  {
   "cell_type": "code",
   "execution_count": 139,
   "metadata": {},
   "outputs": [],
   "source": [
    "X = df_combine['score'].round().values.reshape(-1,1)\n",
    "y = df_combine['viewCount'].values"
   ]
  },
  {
   "cell_type": "code",
   "execution_count": 140,
   "metadata": {},
   "outputs": [
    {
     "data": {
      "text/plain": [
       "array([[55.],\n",
       "       [55.],\n",
       "       [37.],\n",
       "       ...,\n",
       "       [60.],\n",
       "       [56.],\n",
       "       [50.]])"
      ]
     },
     "execution_count": 140,
     "metadata": {},
     "output_type": "execute_result"
    }
   ],
   "source": [
    "X"
   ]
  },
  {
   "cell_type": "code",
   "execution_count": 141,
   "metadata": {},
   "outputs": [
    {
     "data": {
      "text/plain": [
       "array([ 28751., 145155., 197433., ...,   1002., 252696., 438684.])"
      ]
     },
     "execution_count": 141,
     "metadata": {},
     "output_type": "execute_result"
    }
   ],
   "source": [
    "y"
   ]
  },
  {
   "cell_type": "code",
   "execution_count": 142,
   "metadata": {},
   "outputs": [],
   "source": [
    "from sklearn.model_selection import train_test_split"
   ]
  },
  {
   "cell_type": "code",
   "execution_count": 143,
   "metadata": {},
   "outputs": [],
   "source": [
    "X_train, X_test, y_train, y_test = train_test_split(X, y, test_size=0.2, random_state=20)"
   ]
  },
  {
   "cell_type": "code",
   "execution_count": 144,
   "metadata": {},
   "outputs": [
    {
     "data": {
      "text/plain": [
       "SVC(C=1.0, cache_size=200, class_weight=None, coef0=0.0,\n",
       "  decision_function_shape='ovr', degree=3, gamma='scale', kernel='rbf',\n",
       "  max_iter=-1, probability=False, random_state=None, shrinking=True,\n",
       "  tol=0.001, verbose=False)"
      ]
     },
     "execution_count": 144,
     "metadata": {},
     "output_type": "execute_result"
    }
   ],
   "source": [
    "clf.fit(X_train, y_train) "
   ]
  },
  {
   "cell_type": "code",
   "execution_count": 146,
   "metadata": {},
   "outputs": [],
   "source": [
    "pred1 = clf.predict(X_test)"
   ]
  },
  {
   "cell_type": "code",
   "execution_count": 155,
   "metadata": {},
   "outputs": [],
   "source": [
    "from sklearn.metrics import accuracy_score, confusion_matrix\n",
    "from sklearn import metrics"
   ]
  },
  {
   "cell_type": "code",
   "execution_count": 156,
   "metadata": {},
   "outputs": [
    {
     "name": "stdout",
     "output_type": "stream",
     "text": [
      "Mean Absolute Error: 233444.5642857143\n",
      "Mean Squared Error: 238849613167.77142\n",
      "Root Mean Squared Error: 488722.4295730363\n"
     ]
    }
   ],
   "source": [
    "print('Mean Absolute Error:', metrics.mean_absolute_error(y_test, pred1))  \n",
    "print('Mean Squared Error:', metrics.mean_squared_error(y_test, pred1))  \n",
    "print('Root Mean Squared Error:', np.sqrt(metrics.mean_squared_error(y_test, pred1)))"
   ]
  },
  {
   "cell_type": "code",
   "execution_count": 162,
   "metadata": {},
   "outputs": [],
   "source": [
    "clf_1 = svm.SVR(gamma='scale')"
   ]
  },
  {
   "cell_type": "code",
   "execution_count": 163,
   "metadata": {},
   "outputs": [
    {
     "data": {
      "text/plain": [
       "SVR(C=1.0, cache_size=200, coef0=0.0, degree=3, epsilon=0.1, gamma='scale',\n",
       "  kernel='rbf', max_iter=-1, shrinking=True, tol=0.001, verbose=False)"
      ]
     },
     "execution_count": 163,
     "metadata": {},
     "output_type": "execute_result"
    }
   ],
   "source": [
    "clf_1.fit(X_train, y_train) "
   ]
  },
  {
   "cell_type": "code",
   "execution_count": 164,
   "metadata": {},
   "outputs": [],
   "source": [
    "pred2 = clf_1.predict(X_test)"
   ]
  },
  {
   "cell_type": "code",
   "execution_count": 165,
   "metadata": {},
   "outputs": [
    {
     "name": "stdout",
     "output_type": "stream",
     "text": [
      "Mean Absolute Error: 203386.4870044598\n",
      "Mean Squared Error: 205848592590.8743\n",
      "Root Mean Squared Error: 453705.4028671846\n"
     ]
    }
   ],
   "source": [
    "print('Mean Absolute Error:', metrics.mean_absolute_error(y_test, pred2))  \n",
    "print('Mean Squared Error:', metrics.mean_squared_error(y_test, pred2))  \n",
    "print('Root Mean Squared Error:', np.sqrt(metrics.mean_squared_error(y_test, pred2)))"
   ]
  },
  {
   "cell_type": "code",
   "execution_count": 166,
   "metadata": {},
   "outputs": [],
   "source": [
    "clf_2 = svm.SVC(gamma='scale', decision_function_shape='ovo')"
   ]
  },
  {
   "cell_type": "code",
   "execution_count": 167,
   "metadata": {},
   "outputs": [
    {
     "data": {
      "text/plain": [
       "SVC(C=1.0, cache_size=200, class_weight=None, coef0=0.0,\n",
       "  decision_function_shape='ovo', degree=3, gamma='scale', kernel='rbf',\n",
       "  max_iter=-1, probability=False, random_state=None, shrinking=True,\n",
       "  tol=0.001, verbose=False)"
      ]
     },
     "execution_count": 167,
     "metadata": {},
     "output_type": "execute_result"
    }
   ],
   "source": [
    "clf_2.fit(X_train, y_train) "
   ]
  },
  {
   "cell_type": "code",
   "execution_count": 168,
   "metadata": {},
   "outputs": [],
   "source": [
    "pred3 = clf_2.predict(X_test)"
   ]
  },
  {
   "cell_type": "code",
   "execution_count": 169,
   "metadata": {},
   "outputs": [
    {
     "name": "stdout",
     "output_type": "stream",
     "text": [
      "Mean Absolute Error: 233444.5642857143\n",
      "Mean Squared Error: 238849613167.77142\n",
      "Root Mean Squared Error: 488722.4295730363\n"
     ]
    }
   ],
   "source": [
    "print('Mean Absolute Error:', metrics.mean_absolute_error(y_test, pred3))  \n",
    "print('Mean Squared Error:', metrics.mean_squared_error(y_test, pred3))  \n",
    "print('Root Mean Squared Error:', np.sqrt(metrics.mean_squared_error(y_test, pred3)))"
   ]
  },
  {
   "cell_type": "code",
   "execution_count": 172,
   "metadata": {},
   "outputs": [
    {
     "name": "stdout",
     "output_type": "stream",
     "text": [
      "StandardScaler(copy=True, with_mean=True, with_std=True)\n"
     ]
    }
   ],
   "source": [
    "from sklearn.preprocessing import StandardScaler\n",
    "scaler = StandardScaler()\n",
    "print(scaler.fit(X_train, y_train))"
   ]
  },
  {
   "cell_type": "code",
   "execution_count": 179,
   "metadata": {},
   "outputs": [],
   "source": [
    "lin_clf = svm.LinearSVC(max_iter=1000000)"
   ]
  },
  {
   "cell_type": "code",
   "execution_count": 180,
   "metadata": {},
   "outputs": [
    {
     "data": {
      "text/plain": [
       "LinearSVC(C=1.0, class_weight=None, dual=True, fit_intercept=True,\n",
       "     intercept_scaling=1, loss='squared_hinge', max_iter=1000000,\n",
       "     multi_class='ovr', penalty='l2', random_state=None, tol=0.0001,\n",
       "     verbose=0)"
      ]
     },
     "execution_count": 180,
     "metadata": {},
     "output_type": "execute_result"
    }
   ],
   "source": [
    "lin_clf.fit(X_train, y_train) "
   ]
  },
  {
   "cell_type": "code",
   "execution_count": null,
   "metadata": {},
   "outputs": [],
   "source": []
  }
 ],
 "metadata": {
  "kernelspec": {
   "display_name": "Python 3",
   "language": "python",
   "name": "python3"
  },
  "language_info": {
   "codemirror_mode": {
    "name": "ipython",
    "version": 3
   },
   "file_extension": ".py",
   "mimetype": "text/x-python",
   "name": "python",
   "nbconvert_exporter": "python",
   "pygments_lexer": "ipython3",
   "version": "3.6.8"
  }
 },
 "nbformat": 4,
 "nbformat_minor": 2
}
